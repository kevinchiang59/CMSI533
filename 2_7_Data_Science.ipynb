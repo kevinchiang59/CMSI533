{
  "nbformat": 4,
  "nbformat_minor": 0,
  "metadata": {
    "colab": {
      "provenance": []
    },
    "kernelspec": {
      "name": "python3",
      "display_name": "Python 3"
    },
    "language_info": {
      "name": "python"
    }
  },
  "cells": [
    {
      "cell_type": "code",
      "execution_count": 101,
      "metadata": {
        "id": "5J5nu8NkDqPZ"
      },
      "outputs": [],
      "source": [
        "import pandas as pd\n",
        "df = pd.read_csv(\"Labor_Force_Participation_Rate__US_and_California.csv\")"
      ]
    },
    {
      "cell_type": "code",
      "source": [
        "df.head()"
      ],
      "metadata": {
        "colab": {
          "base_uri": "https://localhost:8080/",
          "height": 268
        },
        "id": "lnw6K_gNEwEx",
        "outputId": "4771194d-e5bd-40e5-94f0-1545a6196f5d"
      },
      "execution_count": 102,
      "outputs": [
        {
          "output_type": "execute_result",
          "data": {
            "text/plain": [
              "         Date  Year     Month  California Labor Force Participation Rate  \\\n",
              "0  12/01/2018  2018  December                                        0.6   \n",
              "1  01/01/2019  2019   January                                        0.6   \n",
              "2  02/01/2019  2019  February                                        0.6   \n",
              "3  03/01/2019  2019     March                                        0.6   \n",
              "4  04/01/2019  2019     April                                        0.6   \n",
              "\n",
              "   US Labor Force Participation Rate  \n",
              "0                                0.6  \n",
              "1                                0.6  \n",
              "2                                0.6  \n",
              "3                                0.6  \n",
              "4                                0.6  "
            ],
            "text/html": [
              "\n",
              "  <div id=\"df-dee2a284-93b5-46cb-9560-3dfd8aaa202b\">\n",
              "    <div class=\"colab-df-container\">\n",
              "      <div>\n",
              "<style scoped>\n",
              "    .dataframe tbody tr th:only-of-type {\n",
              "        vertical-align: middle;\n",
              "    }\n",
              "\n",
              "    .dataframe tbody tr th {\n",
              "        vertical-align: top;\n",
              "    }\n",
              "\n",
              "    .dataframe thead th {\n",
              "        text-align: right;\n",
              "    }\n",
              "</style>\n",
              "<table border=\"1\" class=\"dataframe\">\n",
              "  <thead>\n",
              "    <tr style=\"text-align: right;\">\n",
              "      <th></th>\n",
              "      <th>Date</th>\n",
              "      <th>Year</th>\n",
              "      <th>Month</th>\n",
              "      <th>California Labor Force Participation Rate</th>\n",
              "      <th>US Labor Force Participation Rate</th>\n",
              "    </tr>\n",
              "  </thead>\n",
              "  <tbody>\n",
              "    <tr>\n",
              "      <th>0</th>\n",
              "      <td>12/01/2018</td>\n",
              "      <td>2018</td>\n",
              "      <td>December</td>\n",
              "      <td>0.6</td>\n",
              "      <td>0.6</td>\n",
              "    </tr>\n",
              "    <tr>\n",
              "      <th>1</th>\n",
              "      <td>01/01/2019</td>\n",
              "      <td>2019</td>\n",
              "      <td>January</td>\n",
              "      <td>0.6</td>\n",
              "      <td>0.6</td>\n",
              "    </tr>\n",
              "    <tr>\n",
              "      <th>2</th>\n",
              "      <td>02/01/2019</td>\n",
              "      <td>2019</td>\n",
              "      <td>February</td>\n",
              "      <td>0.6</td>\n",
              "      <td>0.6</td>\n",
              "    </tr>\n",
              "    <tr>\n",
              "      <th>3</th>\n",
              "      <td>03/01/2019</td>\n",
              "      <td>2019</td>\n",
              "      <td>March</td>\n",
              "      <td>0.6</td>\n",
              "      <td>0.6</td>\n",
              "    </tr>\n",
              "    <tr>\n",
              "      <th>4</th>\n",
              "      <td>04/01/2019</td>\n",
              "      <td>2019</td>\n",
              "      <td>April</td>\n",
              "      <td>0.6</td>\n",
              "      <td>0.6</td>\n",
              "    </tr>\n",
              "  </tbody>\n",
              "</table>\n",
              "</div>\n",
              "      <button class=\"colab-df-convert\" onclick=\"convertToInteractive('df-dee2a284-93b5-46cb-9560-3dfd8aaa202b')\"\n",
              "              title=\"Convert this dataframe to an interactive table.\"\n",
              "              style=\"display:none;\">\n",
              "        \n",
              "  <svg xmlns=\"http://www.w3.org/2000/svg\" height=\"24px\"viewBox=\"0 0 24 24\"\n",
              "       width=\"24px\">\n",
              "    <path d=\"M0 0h24v24H0V0z\" fill=\"none\"/>\n",
              "    <path d=\"M18.56 5.44l.94 2.06.94-2.06 2.06-.94-2.06-.94-.94-2.06-.94 2.06-2.06.94zm-11 1L8.5 8.5l.94-2.06 2.06-.94-2.06-.94L8.5 2.5l-.94 2.06-2.06.94zm10 10l.94 2.06.94-2.06 2.06-.94-2.06-.94-.94-2.06-.94 2.06-2.06.94z\"/><path d=\"M17.41 7.96l-1.37-1.37c-.4-.4-.92-.59-1.43-.59-.52 0-1.04.2-1.43.59L10.3 9.45l-7.72 7.72c-.78.78-.78 2.05 0 2.83L4 21.41c.39.39.9.59 1.41.59.51 0 1.02-.2 1.41-.59l7.78-7.78 2.81-2.81c.8-.78.8-2.07 0-2.86zM5.41 20L4 18.59l7.72-7.72 1.47 1.35L5.41 20z\"/>\n",
              "  </svg>\n",
              "      </button>\n",
              "      \n",
              "  <style>\n",
              "    .colab-df-container {\n",
              "      display:flex;\n",
              "      flex-wrap:wrap;\n",
              "      gap: 12px;\n",
              "    }\n",
              "\n",
              "    .colab-df-convert {\n",
              "      background-color: #E8F0FE;\n",
              "      border: none;\n",
              "      border-radius: 50%;\n",
              "      cursor: pointer;\n",
              "      display: none;\n",
              "      fill: #1967D2;\n",
              "      height: 32px;\n",
              "      padding: 0 0 0 0;\n",
              "      width: 32px;\n",
              "    }\n",
              "\n",
              "    .colab-df-convert:hover {\n",
              "      background-color: #E2EBFA;\n",
              "      box-shadow: 0px 1px 2px rgba(60, 64, 67, 0.3), 0px 1px 3px 1px rgba(60, 64, 67, 0.15);\n",
              "      fill: #174EA6;\n",
              "    }\n",
              "\n",
              "    [theme=dark] .colab-df-convert {\n",
              "      background-color: #3B4455;\n",
              "      fill: #D2E3FC;\n",
              "    }\n",
              "\n",
              "    [theme=dark] .colab-df-convert:hover {\n",
              "      background-color: #434B5C;\n",
              "      box-shadow: 0px 1px 3px 1px rgba(0, 0, 0, 0.15);\n",
              "      filter: drop-shadow(0px 1px 2px rgba(0, 0, 0, 0.3));\n",
              "      fill: #FFFFFF;\n",
              "    }\n",
              "  </style>\n",
              "\n",
              "      <script>\n",
              "        const buttonEl =\n",
              "          document.querySelector('#df-dee2a284-93b5-46cb-9560-3dfd8aaa202b button.colab-df-convert');\n",
              "        buttonEl.style.display =\n",
              "          google.colab.kernel.accessAllowed ? 'block' : 'none';\n",
              "\n",
              "        async function convertToInteractive(key) {\n",
              "          const element = document.querySelector('#df-dee2a284-93b5-46cb-9560-3dfd8aaa202b');\n",
              "          const dataTable =\n",
              "            await google.colab.kernel.invokeFunction('convertToInteractive',\n",
              "                                                     [key], {});\n",
              "          if (!dataTable) return;\n",
              "\n",
              "          const docLinkHtml = 'Like what you see? Visit the ' +\n",
              "            '<a target=\"_blank\" href=https://colab.research.google.com/notebooks/data_table.ipynb>data table notebook</a>'\n",
              "            + ' to learn more about interactive tables.';\n",
              "          element.innerHTML = '';\n",
              "          dataTable['output_type'] = 'display_data';\n",
              "          await google.colab.output.renderOutput(dataTable, element);\n",
              "          const docLink = document.createElement('div');\n",
              "          docLink.innerHTML = docLinkHtml;\n",
              "          element.appendChild(docLink);\n",
              "        }\n",
              "      </script>\n",
              "    </div>\n",
              "  </div>\n",
              "  "
            ]
          },
          "metadata": {},
          "execution_count": 102
        }
      ]
    },
    {
      "cell_type": "code",
      "source": [
        "df.head(15)"
      ],
      "metadata": {
        "colab": {
          "base_uri": "https://localhost:8080/",
          "height": 581
        },
        "id": "9GZbGWXfE2k-",
        "outputId": "977dab97-70c4-4038-ffaa-5c61055127c1"
      },
      "execution_count": 103,
      "outputs": [
        {
          "output_type": "execute_result",
          "data": {
            "text/plain": [
              "          Date  Year      Month  California Labor Force Participation Rate  \\\n",
              "0   12/01/2018  2018   December                                        0.6   \n",
              "1   01/01/2019  2019    January                                        0.6   \n",
              "2   02/01/2019  2019   February                                        0.6   \n",
              "3   03/01/2019  2019      March                                        0.6   \n",
              "4   04/01/2019  2019      April                                        0.6   \n",
              "5   05/01/2019  2019        May                                        0.6   \n",
              "6   06/01/2019  2019       June                                        0.6   \n",
              "7   07/01/2019  2019       July                                        0.6   \n",
              "8   08/01/2019  2019     August                                        0.6   \n",
              "9   09/01/2019  2019  September                                        0.6   \n",
              "10  10/01/2019  2019    October                                        0.6   \n",
              "11  11/01/2019  2019   November                                        0.6   \n",
              "12  12/01/2019  2019   December                                        0.6   \n",
              "13  01/01/2020  2020    January                                        0.6   \n",
              "14  02/01/2020  2020   February                                        0.6   \n",
              "\n",
              "    US Labor Force Participation Rate  \n",
              "0                                 0.6  \n",
              "1                                 0.6  \n",
              "2                                 0.6  \n",
              "3                                 0.6  \n",
              "4                                 0.6  \n",
              "5                                 0.6  \n",
              "6                                 0.6  \n",
              "7                                 0.6  \n",
              "8                                 0.6  \n",
              "9                                 0.6  \n",
              "10                                0.6  \n",
              "11                                0.6  \n",
              "12                                0.6  \n",
              "13                                0.6  \n",
              "14                                0.6  "
            ],
            "text/html": [
              "\n",
              "  <div id=\"df-c1c7c10e-71a0-4deb-90ed-eb5d6494a08c\">\n",
              "    <div class=\"colab-df-container\">\n",
              "      <div>\n",
              "<style scoped>\n",
              "    .dataframe tbody tr th:only-of-type {\n",
              "        vertical-align: middle;\n",
              "    }\n",
              "\n",
              "    .dataframe tbody tr th {\n",
              "        vertical-align: top;\n",
              "    }\n",
              "\n",
              "    .dataframe thead th {\n",
              "        text-align: right;\n",
              "    }\n",
              "</style>\n",
              "<table border=\"1\" class=\"dataframe\">\n",
              "  <thead>\n",
              "    <tr style=\"text-align: right;\">\n",
              "      <th></th>\n",
              "      <th>Date</th>\n",
              "      <th>Year</th>\n",
              "      <th>Month</th>\n",
              "      <th>California Labor Force Participation Rate</th>\n",
              "      <th>US Labor Force Participation Rate</th>\n",
              "    </tr>\n",
              "  </thead>\n",
              "  <tbody>\n",
              "    <tr>\n",
              "      <th>0</th>\n",
              "      <td>12/01/2018</td>\n",
              "      <td>2018</td>\n",
              "      <td>December</td>\n",
              "      <td>0.6</td>\n",
              "      <td>0.6</td>\n",
              "    </tr>\n",
              "    <tr>\n",
              "      <th>1</th>\n",
              "      <td>01/01/2019</td>\n",
              "      <td>2019</td>\n",
              "      <td>January</td>\n",
              "      <td>0.6</td>\n",
              "      <td>0.6</td>\n",
              "    </tr>\n",
              "    <tr>\n",
              "      <th>2</th>\n",
              "      <td>02/01/2019</td>\n",
              "      <td>2019</td>\n",
              "      <td>February</td>\n",
              "      <td>0.6</td>\n",
              "      <td>0.6</td>\n",
              "    </tr>\n",
              "    <tr>\n",
              "      <th>3</th>\n",
              "      <td>03/01/2019</td>\n",
              "      <td>2019</td>\n",
              "      <td>March</td>\n",
              "      <td>0.6</td>\n",
              "      <td>0.6</td>\n",
              "    </tr>\n",
              "    <tr>\n",
              "      <th>4</th>\n",
              "      <td>04/01/2019</td>\n",
              "      <td>2019</td>\n",
              "      <td>April</td>\n",
              "      <td>0.6</td>\n",
              "      <td>0.6</td>\n",
              "    </tr>\n",
              "    <tr>\n",
              "      <th>5</th>\n",
              "      <td>05/01/2019</td>\n",
              "      <td>2019</td>\n",
              "      <td>May</td>\n",
              "      <td>0.6</td>\n",
              "      <td>0.6</td>\n",
              "    </tr>\n",
              "    <tr>\n",
              "      <th>6</th>\n",
              "      <td>06/01/2019</td>\n",
              "      <td>2019</td>\n",
              "      <td>June</td>\n",
              "      <td>0.6</td>\n",
              "      <td>0.6</td>\n",
              "    </tr>\n",
              "    <tr>\n",
              "      <th>7</th>\n",
              "      <td>07/01/2019</td>\n",
              "      <td>2019</td>\n",
              "      <td>July</td>\n",
              "      <td>0.6</td>\n",
              "      <td>0.6</td>\n",
              "    </tr>\n",
              "    <tr>\n",
              "      <th>8</th>\n",
              "      <td>08/01/2019</td>\n",
              "      <td>2019</td>\n",
              "      <td>August</td>\n",
              "      <td>0.6</td>\n",
              "      <td>0.6</td>\n",
              "    </tr>\n",
              "    <tr>\n",
              "      <th>9</th>\n",
              "      <td>09/01/2019</td>\n",
              "      <td>2019</td>\n",
              "      <td>September</td>\n",
              "      <td>0.6</td>\n",
              "      <td>0.6</td>\n",
              "    </tr>\n",
              "    <tr>\n",
              "      <th>10</th>\n",
              "      <td>10/01/2019</td>\n",
              "      <td>2019</td>\n",
              "      <td>October</td>\n",
              "      <td>0.6</td>\n",
              "      <td>0.6</td>\n",
              "    </tr>\n",
              "    <tr>\n",
              "      <th>11</th>\n",
              "      <td>11/01/2019</td>\n",
              "      <td>2019</td>\n",
              "      <td>November</td>\n",
              "      <td>0.6</td>\n",
              "      <td>0.6</td>\n",
              "    </tr>\n",
              "    <tr>\n",
              "      <th>12</th>\n",
              "      <td>12/01/2019</td>\n",
              "      <td>2019</td>\n",
              "      <td>December</td>\n",
              "      <td>0.6</td>\n",
              "      <td>0.6</td>\n",
              "    </tr>\n",
              "    <tr>\n",
              "      <th>13</th>\n",
              "      <td>01/01/2020</td>\n",
              "      <td>2020</td>\n",
              "      <td>January</td>\n",
              "      <td>0.6</td>\n",
              "      <td>0.6</td>\n",
              "    </tr>\n",
              "    <tr>\n",
              "      <th>14</th>\n",
              "      <td>02/01/2020</td>\n",
              "      <td>2020</td>\n",
              "      <td>February</td>\n",
              "      <td>0.6</td>\n",
              "      <td>0.6</td>\n",
              "    </tr>\n",
              "  </tbody>\n",
              "</table>\n",
              "</div>\n",
              "      <button class=\"colab-df-convert\" onclick=\"convertToInteractive('df-c1c7c10e-71a0-4deb-90ed-eb5d6494a08c')\"\n",
              "              title=\"Convert this dataframe to an interactive table.\"\n",
              "              style=\"display:none;\">\n",
              "        \n",
              "  <svg xmlns=\"http://www.w3.org/2000/svg\" height=\"24px\"viewBox=\"0 0 24 24\"\n",
              "       width=\"24px\">\n",
              "    <path d=\"M0 0h24v24H0V0z\" fill=\"none\"/>\n",
              "    <path d=\"M18.56 5.44l.94 2.06.94-2.06 2.06-.94-2.06-.94-.94-2.06-.94 2.06-2.06.94zm-11 1L8.5 8.5l.94-2.06 2.06-.94-2.06-.94L8.5 2.5l-.94 2.06-2.06.94zm10 10l.94 2.06.94-2.06 2.06-.94-2.06-.94-.94-2.06-.94 2.06-2.06.94z\"/><path d=\"M17.41 7.96l-1.37-1.37c-.4-.4-.92-.59-1.43-.59-.52 0-1.04.2-1.43.59L10.3 9.45l-7.72 7.72c-.78.78-.78 2.05 0 2.83L4 21.41c.39.39.9.59 1.41.59.51 0 1.02-.2 1.41-.59l7.78-7.78 2.81-2.81c.8-.78.8-2.07 0-2.86zM5.41 20L4 18.59l7.72-7.72 1.47 1.35L5.41 20z\"/>\n",
              "  </svg>\n",
              "      </button>\n",
              "      \n",
              "  <style>\n",
              "    .colab-df-container {\n",
              "      display:flex;\n",
              "      flex-wrap:wrap;\n",
              "      gap: 12px;\n",
              "    }\n",
              "\n",
              "    .colab-df-convert {\n",
              "      background-color: #E8F0FE;\n",
              "      border: none;\n",
              "      border-radius: 50%;\n",
              "      cursor: pointer;\n",
              "      display: none;\n",
              "      fill: #1967D2;\n",
              "      height: 32px;\n",
              "      padding: 0 0 0 0;\n",
              "      width: 32px;\n",
              "    }\n",
              "\n",
              "    .colab-df-convert:hover {\n",
              "      background-color: #E2EBFA;\n",
              "      box-shadow: 0px 1px 2px rgba(60, 64, 67, 0.3), 0px 1px 3px 1px rgba(60, 64, 67, 0.15);\n",
              "      fill: #174EA6;\n",
              "    }\n",
              "\n",
              "    [theme=dark] .colab-df-convert {\n",
              "      background-color: #3B4455;\n",
              "      fill: #D2E3FC;\n",
              "    }\n",
              "\n",
              "    [theme=dark] .colab-df-convert:hover {\n",
              "      background-color: #434B5C;\n",
              "      box-shadow: 0px 1px 3px 1px rgba(0, 0, 0, 0.15);\n",
              "      filter: drop-shadow(0px 1px 2px rgba(0, 0, 0, 0.3));\n",
              "      fill: #FFFFFF;\n",
              "    }\n",
              "  </style>\n",
              "\n",
              "      <script>\n",
              "        const buttonEl =\n",
              "          document.querySelector('#df-c1c7c10e-71a0-4deb-90ed-eb5d6494a08c button.colab-df-convert');\n",
              "        buttonEl.style.display =\n",
              "          google.colab.kernel.accessAllowed ? 'block' : 'none';\n",
              "\n",
              "        async function convertToInteractive(key) {\n",
              "          const element = document.querySelector('#df-c1c7c10e-71a0-4deb-90ed-eb5d6494a08c');\n",
              "          const dataTable =\n",
              "            await google.colab.kernel.invokeFunction('convertToInteractive',\n",
              "                                                     [key], {});\n",
              "          if (!dataTable) return;\n",
              "\n",
              "          const docLinkHtml = 'Like what you see? Visit the ' +\n",
              "            '<a target=\"_blank\" href=https://colab.research.google.com/notebooks/data_table.ipynb>data table notebook</a>'\n",
              "            + ' to learn more about interactive tables.';\n",
              "          element.innerHTML = '';\n",
              "          dataTable['output_type'] = 'display_data';\n",
              "          await google.colab.output.renderOutput(dataTable, element);\n",
              "          const docLink = document.createElement('div');\n",
              "          docLink.innerHTML = docLinkHtml;\n",
              "          element.appendChild(docLink);\n",
              "        }\n",
              "      </script>\n",
              "    </div>\n",
              "  </div>\n",
              "  "
            ]
          },
          "metadata": {},
          "execution_count": 103
        }
      ]
    },
    {
      "cell_type": "code",
      "source": [
        "df[df[\"Year\"]==1992]"
      ],
      "metadata": {
        "colab": {
          "base_uri": "https://localhost:8080/",
          "height": 487
        },
        "id": "IJh5-WXmGq42",
        "outputId": "c9c64e4c-888e-424e-dd14-a6c18aadb575"
      },
      "execution_count": 104,
      "outputs": [
        {
          "output_type": "execute_result",
          "data": {
            "text/plain": [
              "           Date  Year      Month  California Labor Force Participation Rate  \\\n",
              "84   04/01/1992  1992      April                                        0.7   \n",
              "162  11/01/1992  1992   November                                        0.7   \n",
              "165  02/01/1992  1992   February                                        0.7   \n",
              "259  01/01/1992  1992    January                                        0.7   \n",
              "287  03/01/1992  1992      March                                        0.7   \n",
              "309  05/01/1992  1992        May                                        0.7   \n",
              "313  08/01/1992  1992     August                                        0.7   \n",
              "329  10/01/1992  1992    October                                        0.7   \n",
              "396  09/01/1992  1992  September                                        0.7   \n",
              "404  07/01/1992  1992       July                                        0.7   \n",
              "423  06/01/1992  1992       June                                        0.7   \n",
              "424  12/01/1992  1992   December                                        0.7   \n",
              "\n",
              "     US Labor Force Participation Rate  \n",
              "84                                 0.7  \n",
              "162                                0.7  \n",
              "165                                0.7  \n",
              "259                                0.7  \n",
              "287                                0.7  \n",
              "309                                0.7  \n",
              "313                                0.7  \n",
              "329                                0.7  \n",
              "396                                0.7  \n",
              "404                                0.7  \n",
              "423                                0.7  \n",
              "424                                0.7  "
            ],
            "text/html": [
              "\n",
              "  <div id=\"df-63fb1b8c-d516-40cb-9681-afbc9efcfca5\">\n",
              "    <div class=\"colab-df-container\">\n",
              "      <div>\n",
              "<style scoped>\n",
              "    .dataframe tbody tr th:only-of-type {\n",
              "        vertical-align: middle;\n",
              "    }\n",
              "\n",
              "    .dataframe tbody tr th {\n",
              "        vertical-align: top;\n",
              "    }\n",
              "\n",
              "    .dataframe thead th {\n",
              "        text-align: right;\n",
              "    }\n",
              "</style>\n",
              "<table border=\"1\" class=\"dataframe\">\n",
              "  <thead>\n",
              "    <tr style=\"text-align: right;\">\n",
              "      <th></th>\n",
              "      <th>Date</th>\n",
              "      <th>Year</th>\n",
              "      <th>Month</th>\n",
              "      <th>California Labor Force Participation Rate</th>\n",
              "      <th>US Labor Force Participation Rate</th>\n",
              "    </tr>\n",
              "  </thead>\n",
              "  <tbody>\n",
              "    <tr>\n",
              "      <th>84</th>\n",
              "      <td>04/01/1992</td>\n",
              "      <td>1992</td>\n",
              "      <td>April</td>\n",
              "      <td>0.7</td>\n",
              "      <td>0.7</td>\n",
              "    </tr>\n",
              "    <tr>\n",
              "      <th>162</th>\n",
              "      <td>11/01/1992</td>\n",
              "      <td>1992</td>\n",
              "      <td>November</td>\n",
              "      <td>0.7</td>\n",
              "      <td>0.7</td>\n",
              "    </tr>\n",
              "    <tr>\n",
              "      <th>165</th>\n",
              "      <td>02/01/1992</td>\n",
              "      <td>1992</td>\n",
              "      <td>February</td>\n",
              "      <td>0.7</td>\n",
              "      <td>0.7</td>\n",
              "    </tr>\n",
              "    <tr>\n",
              "      <th>259</th>\n",
              "      <td>01/01/1992</td>\n",
              "      <td>1992</td>\n",
              "      <td>January</td>\n",
              "      <td>0.7</td>\n",
              "      <td>0.7</td>\n",
              "    </tr>\n",
              "    <tr>\n",
              "      <th>287</th>\n",
              "      <td>03/01/1992</td>\n",
              "      <td>1992</td>\n",
              "      <td>March</td>\n",
              "      <td>0.7</td>\n",
              "      <td>0.7</td>\n",
              "    </tr>\n",
              "    <tr>\n",
              "      <th>309</th>\n",
              "      <td>05/01/1992</td>\n",
              "      <td>1992</td>\n",
              "      <td>May</td>\n",
              "      <td>0.7</td>\n",
              "      <td>0.7</td>\n",
              "    </tr>\n",
              "    <tr>\n",
              "      <th>313</th>\n",
              "      <td>08/01/1992</td>\n",
              "      <td>1992</td>\n",
              "      <td>August</td>\n",
              "      <td>0.7</td>\n",
              "      <td>0.7</td>\n",
              "    </tr>\n",
              "    <tr>\n",
              "      <th>329</th>\n",
              "      <td>10/01/1992</td>\n",
              "      <td>1992</td>\n",
              "      <td>October</td>\n",
              "      <td>0.7</td>\n",
              "      <td>0.7</td>\n",
              "    </tr>\n",
              "    <tr>\n",
              "      <th>396</th>\n",
              "      <td>09/01/1992</td>\n",
              "      <td>1992</td>\n",
              "      <td>September</td>\n",
              "      <td>0.7</td>\n",
              "      <td>0.7</td>\n",
              "    </tr>\n",
              "    <tr>\n",
              "      <th>404</th>\n",
              "      <td>07/01/1992</td>\n",
              "      <td>1992</td>\n",
              "      <td>July</td>\n",
              "      <td>0.7</td>\n",
              "      <td>0.7</td>\n",
              "    </tr>\n",
              "    <tr>\n",
              "      <th>423</th>\n",
              "      <td>06/01/1992</td>\n",
              "      <td>1992</td>\n",
              "      <td>June</td>\n",
              "      <td>0.7</td>\n",
              "      <td>0.7</td>\n",
              "    </tr>\n",
              "    <tr>\n",
              "      <th>424</th>\n",
              "      <td>12/01/1992</td>\n",
              "      <td>1992</td>\n",
              "      <td>December</td>\n",
              "      <td>0.7</td>\n",
              "      <td>0.7</td>\n",
              "    </tr>\n",
              "  </tbody>\n",
              "</table>\n",
              "</div>\n",
              "      <button class=\"colab-df-convert\" onclick=\"convertToInteractive('df-63fb1b8c-d516-40cb-9681-afbc9efcfca5')\"\n",
              "              title=\"Convert this dataframe to an interactive table.\"\n",
              "              style=\"display:none;\">\n",
              "        \n",
              "  <svg xmlns=\"http://www.w3.org/2000/svg\" height=\"24px\"viewBox=\"0 0 24 24\"\n",
              "       width=\"24px\">\n",
              "    <path d=\"M0 0h24v24H0V0z\" fill=\"none\"/>\n",
              "    <path d=\"M18.56 5.44l.94 2.06.94-2.06 2.06-.94-2.06-.94-.94-2.06-.94 2.06-2.06.94zm-11 1L8.5 8.5l.94-2.06 2.06-.94-2.06-.94L8.5 2.5l-.94 2.06-2.06.94zm10 10l.94 2.06.94-2.06 2.06-.94-2.06-.94-.94-2.06-.94 2.06-2.06.94z\"/><path d=\"M17.41 7.96l-1.37-1.37c-.4-.4-.92-.59-1.43-.59-.52 0-1.04.2-1.43.59L10.3 9.45l-7.72 7.72c-.78.78-.78 2.05 0 2.83L4 21.41c.39.39.9.59 1.41.59.51 0 1.02-.2 1.41-.59l7.78-7.78 2.81-2.81c.8-.78.8-2.07 0-2.86zM5.41 20L4 18.59l7.72-7.72 1.47 1.35L5.41 20z\"/>\n",
              "  </svg>\n",
              "      </button>\n",
              "      \n",
              "  <style>\n",
              "    .colab-df-container {\n",
              "      display:flex;\n",
              "      flex-wrap:wrap;\n",
              "      gap: 12px;\n",
              "    }\n",
              "\n",
              "    .colab-df-convert {\n",
              "      background-color: #E8F0FE;\n",
              "      border: none;\n",
              "      border-radius: 50%;\n",
              "      cursor: pointer;\n",
              "      display: none;\n",
              "      fill: #1967D2;\n",
              "      height: 32px;\n",
              "      padding: 0 0 0 0;\n",
              "      width: 32px;\n",
              "    }\n",
              "\n",
              "    .colab-df-convert:hover {\n",
              "      background-color: #E2EBFA;\n",
              "      box-shadow: 0px 1px 2px rgba(60, 64, 67, 0.3), 0px 1px 3px 1px rgba(60, 64, 67, 0.15);\n",
              "      fill: #174EA6;\n",
              "    }\n",
              "\n",
              "    [theme=dark] .colab-df-convert {\n",
              "      background-color: #3B4455;\n",
              "      fill: #D2E3FC;\n",
              "    }\n",
              "\n",
              "    [theme=dark] .colab-df-convert:hover {\n",
              "      background-color: #434B5C;\n",
              "      box-shadow: 0px 1px 3px 1px rgba(0, 0, 0, 0.15);\n",
              "      filter: drop-shadow(0px 1px 2px rgba(0, 0, 0, 0.3));\n",
              "      fill: #FFFFFF;\n",
              "    }\n",
              "  </style>\n",
              "\n",
              "      <script>\n",
              "        const buttonEl =\n",
              "          document.querySelector('#df-63fb1b8c-d516-40cb-9681-afbc9efcfca5 button.colab-df-convert');\n",
              "        buttonEl.style.display =\n",
              "          google.colab.kernel.accessAllowed ? 'block' : 'none';\n",
              "\n",
              "        async function convertToInteractive(key) {\n",
              "          const element = document.querySelector('#df-63fb1b8c-d516-40cb-9681-afbc9efcfca5');\n",
              "          const dataTable =\n",
              "            await google.colab.kernel.invokeFunction('convertToInteractive',\n",
              "                                                     [key], {});\n",
              "          if (!dataTable) return;\n",
              "\n",
              "          const docLinkHtml = 'Like what you see? Visit the ' +\n",
              "            '<a target=\"_blank\" href=https://colab.research.google.com/notebooks/data_table.ipynb>data table notebook</a>'\n",
              "            + ' to learn more about interactive tables.';\n",
              "          element.innerHTML = '';\n",
              "          dataTable['output_type'] = 'display_data';\n",
              "          await google.colab.output.renderOutput(dataTable, element);\n",
              "          const docLink = document.createElement('div');\n",
              "          docLink.innerHTML = docLinkHtml;\n",
              "          element.appendChild(docLink);\n",
              "        }\n",
              "      </script>\n",
              "    </div>\n",
              "  </div>\n",
              "  "
            ]
          },
          "metadata": {},
          "execution_count": 104
        }
      ]
    },
    {
      "cell_type": "code",
      "source": [
        "import matplotlib.pyplot as plt"
      ],
      "metadata": {
        "id": "d9woIBevHC0v"
      },
      "execution_count": 105,
      "outputs": []
    },
    {
      "cell_type": "code",
      "source": [
        "df = pd.read_csv(\"ca-educational-attainment-personal-income-2008-2014.csv\")\n",
        "df.head(15)"
      ],
      "metadata": {
        "colab": {
          "base_uri": "https://localhost:8080/",
          "height": 842
        },
        "id": "GoRz5lPHJhmv",
        "outputId": "485047b2-fa66-4250-d179-342dafd05358"
      },
      "execution_count": 106,
      "outputs": [
        {
          "output_type": "execute_result",
          "data": {
            "text/plain": [
              "                      Year       Age  Gender  \\\n",
              "0   01/01/2008 12:00:00 AM  00 to 17    Male   \n",
              "1   01/01/2008 12:00:00 AM  00 to 17    Male   \n",
              "2   01/01/2008 12:00:00 AM  00 to 17    Male   \n",
              "3   01/01/2008 12:00:00 AM  00 to 17    Male   \n",
              "4   01/01/2008 12:00:00 AM  00 to 17    Male   \n",
              "5   01/01/2008 12:00:00 AM  00 to 17    Male   \n",
              "6   01/01/2008 12:00:00 AM  00 to 17    Male   \n",
              "7   01/01/2008 12:00:00 AM  00 to 17    Male   \n",
              "8   01/01/2008 12:00:00 AM  00 to 17    Male   \n",
              "9   01/01/2008 12:00:00 AM  00 to 17    Male   \n",
              "10  01/01/2008 12:00:00 AM  00 to 17    Male   \n",
              "11  01/01/2008 12:00:00 AM  00 to 17    Male   \n",
              "12  01/01/2008 12:00:00 AM  00 to 17  Female   \n",
              "13  01/01/2008 12:00:00 AM  00 to 17  Female   \n",
              "14  01/01/2008 12:00:00 AM  00 to 17  Female   \n",
              "\n",
              "                 Educational Attainment     Personal Income  Population Count  \n",
              "0                     Children under 15           No Income               NaN  \n",
              "1                No high school diploma           No Income          650889.0  \n",
              "2                No high school diploma    $5,000 to $9,999           30152.0  \n",
              "3                No high school diploma  $10,000 to $14,999            7092.0  \n",
              "4                No high school diploma  $15,000 to $24,999            3974.0  \n",
              "5                No high school diploma  $25,000 to $34,999            2606.0  \n",
              "6                No high school diploma  $35,000 to $49,999            2227.0  \n",
              "7             High school or equivalent           No Income               NaN  \n",
              "8   Some college, less than 4-yr degree           No Income            8664.0  \n",
              "9   Some college, less than 4-yr degree  $10,000 to $14,999            1304.0  \n",
              "10  Some college, less than 4-yr degree  $15,000 to $24,999            3465.0  \n",
              "11          Bachelor's degree or higher           No Income               NaN  \n",
              "12                    Children under 15           No Income               NaN  \n",
              "13               No high school diploma           No Income          635274.0  \n",
              "14               No high school diploma    $5,000 to $9,999           33202.0  "
            ],
            "text/html": [
              "\n",
              "  <div id=\"df-555696ef-b98c-4f8f-a686-1f64ca8935a3\">\n",
              "    <div class=\"colab-df-container\">\n",
              "      <div>\n",
              "<style scoped>\n",
              "    .dataframe tbody tr th:only-of-type {\n",
              "        vertical-align: middle;\n",
              "    }\n",
              "\n",
              "    .dataframe tbody tr th {\n",
              "        vertical-align: top;\n",
              "    }\n",
              "\n",
              "    .dataframe thead th {\n",
              "        text-align: right;\n",
              "    }\n",
              "</style>\n",
              "<table border=\"1\" class=\"dataframe\">\n",
              "  <thead>\n",
              "    <tr style=\"text-align: right;\">\n",
              "      <th></th>\n",
              "      <th>Year</th>\n",
              "      <th>Age</th>\n",
              "      <th>Gender</th>\n",
              "      <th>Educational Attainment</th>\n",
              "      <th>Personal Income</th>\n",
              "      <th>Population Count</th>\n",
              "    </tr>\n",
              "  </thead>\n",
              "  <tbody>\n",
              "    <tr>\n",
              "      <th>0</th>\n",
              "      <td>01/01/2008 12:00:00 AM</td>\n",
              "      <td>00 to 17</td>\n",
              "      <td>Male</td>\n",
              "      <td>Children under 15</td>\n",
              "      <td>No Income</td>\n",
              "      <td>NaN</td>\n",
              "    </tr>\n",
              "    <tr>\n",
              "      <th>1</th>\n",
              "      <td>01/01/2008 12:00:00 AM</td>\n",
              "      <td>00 to 17</td>\n",
              "      <td>Male</td>\n",
              "      <td>No high school diploma</td>\n",
              "      <td>No Income</td>\n",
              "      <td>650889.0</td>\n",
              "    </tr>\n",
              "    <tr>\n",
              "      <th>2</th>\n",
              "      <td>01/01/2008 12:00:00 AM</td>\n",
              "      <td>00 to 17</td>\n",
              "      <td>Male</td>\n",
              "      <td>No high school diploma</td>\n",
              "      <td>$5,000 to $9,999</td>\n",
              "      <td>30152.0</td>\n",
              "    </tr>\n",
              "    <tr>\n",
              "      <th>3</th>\n",
              "      <td>01/01/2008 12:00:00 AM</td>\n",
              "      <td>00 to 17</td>\n",
              "      <td>Male</td>\n",
              "      <td>No high school diploma</td>\n",
              "      <td>$10,000 to $14,999</td>\n",
              "      <td>7092.0</td>\n",
              "    </tr>\n",
              "    <tr>\n",
              "      <th>4</th>\n",
              "      <td>01/01/2008 12:00:00 AM</td>\n",
              "      <td>00 to 17</td>\n",
              "      <td>Male</td>\n",
              "      <td>No high school diploma</td>\n",
              "      <td>$15,000 to $24,999</td>\n",
              "      <td>3974.0</td>\n",
              "    </tr>\n",
              "    <tr>\n",
              "      <th>5</th>\n",
              "      <td>01/01/2008 12:00:00 AM</td>\n",
              "      <td>00 to 17</td>\n",
              "      <td>Male</td>\n",
              "      <td>No high school diploma</td>\n",
              "      <td>$25,000 to $34,999</td>\n",
              "      <td>2606.0</td>\n",
              "    </tr>\n",
              "    <tr>\n",
              "      <th>6</th>\n",
              "      <td>01/01/2008 12:00:00 AM</td>\n",
              "      <td>00 to 17</td>\n",
              "      <td>Male</td>\n",
              "      <td>No high school diploma</td>\n",
              "      <td>$35,000 to $49,999</td>\n",
              "      <td>2227.0</td>\n",
              "    </tr>\n",
              "    <tr>\n",
              "      <th>7</th>\n",
              "      <td>01/01/2008 12:00:00 AM</td>\n",
              "      <td>00 to 17</td>\n",
              "      <td>Male</td>\n",
              "      <td>High school or equivalent</td>\n",
              "      <td>No Income</td>\n",
              "      <td>NaN</td>\n",
              "    </tr>\n",
              "    <tr>\n",
              "      <th>8</th>\n",
              "      <td>01/01/2008 12:00:00 AM</td>\n",
              "      <td>00 to 17</td>\n",
              "      <td>Male</td>\n",
              "      <td>Some college, less than 4-yr degree</td>\n",
              "      <td>No Income</td>\n",
              "      <td>8664.0</td>\n",
              "    </tr>\n",
              "    <tr>\n",
              "      <th>9</th>\n",
              "      <td>01/01/2008 12:00:00 AM</td>\n",
              "      <td>00 to 17</td>\n",
              "      <td>Male</td>\n",
              "      <td>Some college, less than 4-yr degree</td>\n",
              "      <td>$10,000 to $14,999</td>\n",
              "      <td>1304.0</td>\n",
              "    </tr>\n",
              "    <tr>\n",
              "      <th>10</th>\n",
              "      <td>01/01/2008 12:00:00 AM</td>\n",
              "      <td>00 to 17</td>\n",
              "      <td>Male</td>\n",
              "      <td>Some college, less than 4-yr degree</td>\n",
              "      <td>$15,000 to $24,999</td>\n",
              "      <td>3465.0</td>\n",
              "    </tr>\n",
              "    <tr>\n",
              "      <th>11</th>\n",
              "      <td>01/01/2008 12:00:00 AM</td>\n",
              "      <td>00 to 17</td>\n",
              "      <td>Male</td>\n",
              "      <td>Bachelor's degree or higher</td>\n",
              "      <td>No Income</td>\n",
              "      <td>NaN</td>\n",
              "    </tr>\n",
              "    <tr>\n",
              "      <th>12</th>\n",
              "      <td>01/01/2008 12:00:00 AM</td>\n",
              "      <td>00 to 17</td>\n",
              "      <td>Female</td>\n",
              "      <td>Children under 15</td>\n",
              "      <td>No Income</td>\n",
              "      <td>NaN</td>\n",
              "    </tr>\n",
              "    <tr>\n",
              "      <th>13</th>\n",
              "      <td>01/01/2008 12:00:00 AM</td>\n",
              "      <td>00 to 17</td>\n",
              "      <td>Female</td>\n",
              "      <td>No high school diploma</td>\n",
              "      <td>No Income</td>\n",
              "      <td>635274.0</td>\n",
              "    </tr>\n",
              "    <tr>\n",
              "      <th>14</th>\n",
              "      <td>01/01/2008 12:00:00 AM</td>\n",
              "      <td>00 to 17</td>\n",
              "      <td>Female</td>\n",
              "      <td>No high school diploma</td>\n",
              "      <td>$5,000 to $9,999</td>\n",
              "      <td>33202.0</td>\n",
              "    </tr>\n",
              "  </tbody>\n",
              "</table>\n",
              "</div>\n",
              "      <button class=\"colab-df-convert\" onclick=\"convertToInteractive('df-555696ef-b98c-4f8f-a686-1f64ca8935a3')\"\n",
              "              title=\"Convert this dataframe to an interactive table.\"\n",
              "              style=\"display:none;\">\n",
              "        \n",
              "  <svg xmlns=\"http://www.w3.org/2000/svg\" height=\"24px\"viewBox=\"0 0 24 24\"\n",
              "       width=\"24px\">\n",
              "    <path d=\"M0 0h24v24H0V0z\" fill=\"none\"/>\n",
              "    <path d=\"M18.56 5.44l.94 2.06.94-2.06 2.06-.94-2.06-.94-.94-2.06-.94 2.06-2.06.94zm-11 1L8.5 8.5l.94-2.06 2.06-.94-2.06-.94L8.5 2.5l-.94 2.06-2.06.94zm10 10l.94 2.06.94-2.06 2.06-.94-2.06-.94-.94-2.06-.94 2.06-2.06.94z\"/><path d=\"M17.41 7.96l-1.37-1.37c-.4-.4-.92-.59-1.43-.59-.52 0-1.04.2-1.43.59L10.3 9.45l-7.72 7.72c-.78.78-.78 2.05 0 2.83L4 21.41c.39.39.9.59 1.41.59.51 0 1.02-.2 1.41-.59l7.78-7.78 2.81-2.81c.8-.78.8-2.07 0-2.86zM5.41 20L4 18.59l7.72-7.72 1.47 1.35L5.41 20z\"/>\n",
              "  </svg>\n",
              "      </button>\n",
              "      \n",
              "  <style>\n",
              "    .colab-df-container {\n",
              "      display:flex;\n",
              "      flex-wrap:wrap;\n",
              "      gap: 12px;\n",
              "    }\n",
              "\n",
              "    .colab-df-convert {\n",
              "      background-color: #E8F0FE;\n",
              "      border: none;\n",
              "      border-radius: 50%;\n",
              "      cursor: pointer;\n",
              "      display: none;\n",
              "      fill: #1967D2;\n",
              "      height: 32px;\n",
              "      padding: 0 0 0 0;\n",
              "      width: 32px;\n",
              "    }\n",
              "\n",
              "    .colab-df-convert:hover {\n",
              "      background-color: #E2EBFA;\n",
              "      box-shadow: 0px 1px 2px rgba(60, 64, 67, 0.3), 0px 1px 3px 1px rgba(60, 64, 67, 0.15);\n",
              "      fill: #174EA6;\n",
              "    }\n",
              "\n",
              "    [theme=dark] .colab-df-convert {\n",
              "      background-color: #3B4455;\n",
              "      fill: #D2E3FC;\n",
              "    }\n",
              "\n",
              "    [theme=dark] .colab-df-convert:hover {\n",
              "      background-color: #434B5C;\n",
              "      box-shadow: 0px 1px 3px 1px rgba(0, 0, 0, 0.15);\n",
              "      filter: drop-shadow(0px 1px 2px rgba(0, 0, 0, 0.3));\n",
              "      fill: #FFFFFF;\n",
              "    }\n",
              "  </style>\n",
              "\n",
              "      <script>\n",
              "        const buttonEl =\n",
              "          document.querySelector('#df-555696ef-b98c-4f8f-a686-1f64ca8935a3 button.colab-df-convert');\n",
              "        buttonEl.style.display =\n",
              "          google.colab.kernel.accessAllowed ? 'block' : 'none';\n",
              "\n",
              "        async function convertToInteractive(key) {\n",
              "          const element = document.querySelector('#df-555696ef-b98c-4f8f-a686-1f64ca8935a3');\n",
              "          const dataTable =\n",
              "            await google.colab.kernel.invokeFunction('convertToInteractive',\n",
              "                                                     [key], {});\n",
              "          if (!dataTable) return;\n",
              "\n",
              "          const docLinkHtml = 'Like what you see? Visit the ' +\n",
              "            '<a target=\"_blank\" href=https://colab.research.google.com/notebooks/data_table.ipynb>data table notebook</a>'\n",
              "            + ' to learn more about interactive tables.';\n",
              "          element.innerHTML = '';\n",
              "          dataTable['output_type'] = 'display_data';\n",
              "          await google.colab.output.renderOutput(dataTable, element);\n",
              "          const docLink = document.createElement('div');\n",
              "          docLink.innerHTML = docLinkHtml;\n",
              "          element.appendChild(docLink);\n",
              "        }\n",
              "      </script>\n",
              "    </div>\n",
              "  </div>\n",
              "  "
            ]
          },
          "metadata": {},
          "execution_count": 106
        }
      ]
    },
    {
      "cell_type": "code",
      "source": [
        "df.plot(\"Gender\",\"Population Count\")\n"
      ],
      "metadata": {
        "colab": {
          "base_uri": "https://localhost:8080/",
          "height": 308
        },
        "id": "bzOG_uxrKJ4h",
        "outputId": "52d19176-a981-49d3-fd3b-440920ee4f5a"
      },
      "execution_count": 107,
      "outputs": [
        {
          "output_type": "execute_result",
          "data": {
            "text/plain": [
              "<matplotlib.axes._subplots.AxesSubplot at 0x7f03de4d6580>"
            ]
          },
          "metadata": {},
          "execution_count": 107
        },
        {
          "output_type": "display_data",
          "data": {
            "text/plain": [
              "<Figure size 432x288 with 1 Axes>"
            ],
            "image/png": "[encoded data removed]"
          },
          "metadata": {
            "needs_background": "light"
          }
        }
      ]
    },
    {
      "cell_type": "code",
      "source": [
        "Pop = 'Population Count'\n",
        "plt.hist(df[Pop],bins=20)"
      ],
      "metadata": {
        "colab": {
          "base_uri": "https://localhost:8080/",
          "height": 439
        },
        "id": "J90TWwq1PFdk",
        "outputId": "5dfb8222-fa17-4869-ac2e-15f3b3ad444f"
      },
      "execution_count": 108,
      "outputs": [
        {
          "output_type": "execute_result",
          "data": {
            "text/plain": [
              "(array([488., 146.,  96.,  79.,  62.,  61.,  37.,  23.,  17.,   7.,   1.,\n",
              "          2.,   0.,   0.,   0.,   0.,   0.,   3.,   2.,   2.]),\n",
              " array([1.04800000e+03, 8.31503500e+04, 1.65252700e+05, 2.47355050e+05,\n",
              "        3.29457400e+05, 4.11559750e+05, 4.93662100e+05, 5.75764450e+05,\n",
              "        6.57866800e+05, 7.39969150e+05, 8.22071500e+05, 9.04173850e+05,\n",
              "        9.86276200e+05, 1.06837855e+06, 1.15048090e+06, 1.23258325e+06,\n",
              "        1.31468560e+06, 1.39678795e+06, 1.47889030e+06, 1.56099265e+06,\n",
              "        1.64309500e+06]),\n",
              " <a list of 20 Patch objects>)"
            ]
          },
          "metadata": {},
          "execution_count": 108
        },
        {
          "output_type": "display_data",
          "data": {
            "text/plain": [
              "<Figure size 432x288 with 1 Axes>"
            ],
            "image/png": "[encoded data removed]"
          },
          "metadata": {
            "needs_background": "light"
          }
        }
      ]
    },
    {
      "cell_type": "code",
      "source": [
        "df[\"Population Count\"].describe()"
      ],
      "metadata": {
        "colab": {
          "base_uri": "https://localhost:8080/"
        },
        "id": "lDfYYV9XPFEN",
        "outputId": "913af46f-657d-4558-c446-c1b1e3c509f0"
      },
      "execution_count": 109,
      "outputs": [
        {
          "output_type": "execute_result",
          "data": {
            "text/plain": [
              "count    1.026000e+03\n",
              "mean     1.855429e+05\n",
              "std      2.187005e+05\n",
              "min      1.048000e+03\n",
              "25%      3.052250e+04\n",
              "50%      9.039300e+04\n",
              "75%      2.879518e+05\n",
              "max      1.643095e+06\n",
              "Name: Population Count, dtype: float64"
            ]
          },
          "metadata": {},
          "execution_count": 109
        }
      ]
    },
    {
      "cell_type": "code",
      "source": [
        "df.dtypes"
      ],
      "metadata": {
        "colab": {
          "base_uri": "https://localhost:8080/"
        },
        "id": "dc2lxm7ZRQkO",
        "outputId": "26442278-7edc-4274-9403-7d1f2e50352b"
      },
      "execution_count": 110,
      "outputs": [
        {
          "output_type": "execute_result",
          "data": {
            "text/plain": [
              "Year                       object\n",
              "Age                        object\n",
              "Gender                     object\n",
              "Educational Attainment     object\n",
              "Personal Income            object\n",
              "Population Count          float64\n",
              "dtype: object"
            ]
          },
          "metadata": {},
          "execution_count": 110
        }
      ]
    },
    {
      "cell_type": "code",
      "source": [
        "df = df[df['Educational Attainment'] != 'Children under 15']\n",
        "df.head(15)"
      ],
      "metadata": {
        "colab": {
          "base_uri": "https://localhost:8080/",
          "height": 842
        },
        "id": "Uq9JUUYQKPz0",
        "outputId": "14e6ee1b-f972-4e28-d442-9eabbdc19a88"
      },
      "execution_count": 111,
      "outputs": [
        {
          "output_type": "execute_result",
          "data": {
            "text/plain": [
              "                      Year       Age  Gender  \\\n",
              "1   01/01/2008 12:00:00 AM  00 to 17    Male   \n",
              "2   01/01/2008 12:00:00 AM  00 to 17    Male   \n",
              "3   01/01/2008 12:00:00 AM  00 to 17    Male   \n",
              "4   01/01/2008 12:00:00 AM  00 to 17    Male   \n",
              "5   01/01/2008 12:00:00 AM  00 to 17    Male   \n",
              "6   01/01/2008 12:00:00 AM  00 to 17    Male   \n",
              "7   01/01/2008 12:00:00 AM  00 to 17    Male   \n",
              "8   01/01/2008 12:00:00 AM  00 to 17    Male   \n",
              "9   01/01/2008 12:00:00 AM  00 to 17    Male   \n",
              "10  01/01/2008 12:00:00 AM  00 to 17    Male   \n",
              "11  01/01/2008 12:00:00 AM  00 to 17    Male   \n",
              "13  01/01/2008 12:00:00 AM  00 to 17  Female   \n",
              "14  01/01/2008 12:00:00 AM  00 to 17  Female   \n",
              "15  01/01/2008 12:00:00 AM  00 to 17  Female   \n",
              "16  01/01/2008 12:00:00 AM  00 to 17  Female   \n",
              "\n",
              "                 Educational Attainment     Personal Income  Population Count  \n",
              "1                No high school diploma           No Income          650889.0  \n",
              "2                No high school diploma    $5,000 to $9,999           30152.0  \n",
              "3                No high school diploma  $10,000 to $14,999            7092.0  \n",
              "4                No high school diploma  $15,000 to $24,999            3974.0  \n",
              "5                No high school diploma  $25,000 to $34,999            2606.0  \n",
              "6                No high school diploma  $35,000 to $49,999            2227.0  \n",
              "7             High school or equivalent           No Income               NaN  \n",
              "8   Some college, less than 4-yr degree           No Income            8664.0  \n",
              "9   Some college, less than 4-yr degree  $10,000 to $14,999            1304.0  \n",
              "10  Some college, less than 4-yr degree  $15,000 to $24,999            3465.0  \n",
              "11          Bachelor's degree or higher           No Income               NaN  \n",
              "13               No high school diploma           No Income          635274.0  \n",
              "14               No high school diploma    $5,000 to $9,999           33202.0  \n",
              "15               No high school diploma  $10,000 to $14,999            6857.0  \n",
              "16               No high school diploma  $15,000 to $24,999            2009.0  "
            ],
            "text/html": [
              "\n",
              "  <div id=\"df-8708e19e-3b26-4ac1-9397-9d01f48c427f\">\n",
              "    <div class=\"colab-df-container\">\n",
              "      <div>\n",
              "<style scoped>\n",
              "    .dataframe tbody tr th:only-of-type {\n",
              "        vertical-align: middle;\n",
              "    }\n",
              "\n",
              "    .dataframe tbody tr th {\n",
              "        vertical-align: top;\n",
              "    }\n",
              "\n",
              "    .dataframe thead th {\n",
              "        text-align: right;\n",
              "    }\n",
              "</style>\n",
              "<table border=\"1\" class=\"dataframe\">\n",
              "  <thead>\n",
              "    <tr style=\"text-align: right;\">\n",
              "      <th></th>\n",
              "      <th>Year</th>\n",
              "      <th>Age</th>\n",
              "      <th>Gender</th>\n",
              "      <th>Educational Attainment</th>\n",
              "      <th>Personal Income</th>\n",
              "      <th>Population Count</th>\n",
              "    </tr>\n",
              "  </thead>\n",
              "  <tbody>\n",
              "    <tr>\n",
              "      <th>1</th>\n",
              "      <td>01/01/2008 12:00:00 AM</td>\n",
              "      <td>00 to 17</td>\n",
              "      <td>Male</td>\n",
              "      <td>No high school diploma</td>\n",
              "      <td>No Income</td>\n",
              "      <td>650889.0</td>\n",
              "    </tr>\n",
              "    <tr>\n",
              "      <th>2</th>\n",
              "      <td>01/01/2008 12:00:00 AM</td>\n",
              "      <td>00 to 17</td>\n",
              "      <td>Male</td>\n",
              "      <td>No high school diploma</td>\n",
              "      <td>$5,000 to $9,999</td>\n",
              "      <td>30152.0</td>\n",
              "    </tr>\n",
              "    <tr>\n",
              "      <th>3</th>\n",
              "      <td>01/01/2008 12:00:00 AM</td>\n",
              "      <td>00 to 17</td>\n",
              "      <td>Male</td>\n",
              "      <td>No high school diploma</td>\n",
              "      <td>$10,000 to $14,999</td>\n",
              "      <td>7092.0</td>\n",
              "    </tr>\n",
              "    <tr>\n",
              "      <th>4</th>\n",
              "      <td>01/01/2008 12:00:00 AM</td>\n",
              "      <td>00 to 17</td>\n",
              "      <td>Male</td>\n",
              "      <td>No high school diploma</td>\n",
              "      <td>$15,000 to $24,999</td>\n",
              "      <td>3974.0</td>\n",
              "    </tr>\n",
              "    <tr>\n",
              "      <th>5</th>\n",
              "      <td>01/01/2008 12:00:00 AM</td>\n",
              "      <td>00 to 17</td>\n",
              "      <td>Male</td>\n",
              "      <td>No high school diploma</td>\n",
              "      <td>$25,000 to $34,999</td>\n",
              "      <td>2606.0</td>\n",
              "    </tr>\n",
              "    <tr>\n",
              "      <th>6</th>\n",
              "      <td>01/01/2008 12:00:00 AM</td>\n",
              "      <td>00 to 17</td>\n",
              "      <td>Male</td>\n",
              "      <td>No high school diploma</td>\n",
              "      <td>$35,000 to $49,999</td>\n",
              "      <td>2227.0</td>\n",
              "    </tr>\n",
              "    <tr>\n",
              "      <th>7</th>\n",
              "      <td>01/01/2008 12:00:00 AM</td>\n",
              "      <td>00 to 17</td>\n",
              "      <td>Male</td>\n",
              "      <td>High school or equivalent</td>\n",
              "      <td>No Income</td>\n",
              "      <td>NaN</td>\n",
              "    </tr>\n",
              "    <tr>\n",
              "      <th>8</th>\n",
              "      <td>01/01/2008 12:00:00 AM</td>\n",
              "      <td>00 to 17</td>\n",
              "      <td>Male</td>\n",
              "      <td>Some college, less than 4-yr degree</td>\n",
              "      <td>No Income</td>\n",
              "      <td>8664.0</td>\n",
              "    </tr>\n",
              "    <tr>\n",
              "      <th>9</th>\n",
              "      <td>01/01/2008 12:00:00 AM</td>\n",
              "      <td>00 to 17</td>\n",
              "      <td>Male</td>\n",
              "      <td>Some college, less than 4-yr degree</td>\n",
              "      <td>$10,000 to $14,999</td>\n",
              "      <td>1304.0</td>\n",
              "    </tr>\n",
              "    <tr>\n",
              "      <th>10</th>\n",
              "      <td>01/01/2008 12:00:00 AM</td>\n",
              "      <td>00 to 17</td>\n",
              "      <td>Male</td>\n",
              "      <td>Some college, less than 4-yr degree</td>\n",
              "      <td>$15,000 to $24,999</td>\n",
              "      <td>3465.0</td>\n",
              "    </tr>\n",
              "    <tr>\n",
              "      <th>11</th>\n",
              "      <td>01/01/2008 12:00:00 AM</td>\n",
              "      <td>00 to 17</td>\n",
              "      <td>Male</td>\n",
              "      <td>Bachelor's degree or higher</td>\n",
              "      <td>No Income</td>\n",
              "      <td>NaN</td>\n",
              "    </tr>\n",
              "    <tr>\n",
              "      <th>13</th>\n",
              "      <td>01/01/2008 12:00:00 AM</td>\n",
              "      <td>00 to 17</td>\n",
              "      <td>Female</td>\n",
              "      <td>No high school diploma</td>\n",
              "      <td>No Income</td>\n",
              "      <td>635274.0</td>\n",
              "    </tr>\n",
              "    <tr>\n",
              "      <th>14</th>\n",
              "      <td>01/01/2008 12:00:00 AM</td>\n",
              "      <td>00 to 17</td>\n",
              "      <td>Female</td>\n",
              "      <td>No high school diploma</td>\n",
              "      <td>$5,000 to $9,999</td>\n",
              "      <td>33202.0</td>\n",
              "    </tr>\n",
              "    <tr>\n",
              "      <th>15</th>\n",
              "      <td>01/01/2008 12:00:00 AM</td>\n",
              "      <td>00 to 17</td>\n",
              "      <td>Female</td>\n",
              "      <td>No high school diploma</td>\n",
              "      <td>$10,000 to $14,999</td>\n",
              "      <td>6857.0</td>\n",
              "    </tr>\n",
              "    <tr>\n",
              "      <th>16</th>\n",
              "      <td>01/01/2008 12:00:00 AM</td>\n",
              "      <td>00 to 17</td>\n",
              "      <td>Female</td>\n",
              "      <td>No high school diploma</td>\n",
              "      <td>$15,000 to $24,999</td>\n",
              "      <td>2009.0</td>\n",
              "    </tr>\n",
              "  </tbody>\n",
              "</table>\n",
              "</div>\n",
              "      <button class=\"colab-df-convert\" onclick=\"convertToInteractive('df-8708e19e-3b26-4ac1-9397-9d01f48c427f')\"\n",
              "              title=\"Convert this dataframe to an interactive table.\"\n",
              "              style=\"display:none;\">\n",
              "        \n",
              "  <svg xmlns=\"http://www.w3.org/2000/svg\" height=\"24px\"viewBox=\"0 0 24 24\"\n",
              "       width=\"24px\">\n",
              "    <path d=\"M0 0h24v24H0V0z\" fill=\"none\"/>\n",
              "    <path d=\"M18.56 5.44l.94 2.06.94-2.06 2.06-.94-2.06-.94-.94-2.06-.94 2.06-2.06.94zm-11 1L8.5 8.5l.94-2.06 2.06-.94-2.06-.94L8.5 2.5l-.94 2.06-2.06.94zm10 10l.94 2.06.94-2.06 2.06-.94-2.06-.94-.94-2.06-.94 2.06-2.06.94z\"/><path d=\"M17.41 7.96l-1.37-1.37c-.4-.4-.92-.59-1.43-.59-.52 0-1.04.2-1.43.59L10.3 9.45l-7.72 7.72c-.78.78-.78 2.05 0 2.83L4 21.41c.39.39.9.59 1.41.59.51 0 1.02-.2 1.41-.59l7.78-7.78 2.81-2.81c.8-.78.8-2.07 0-2.86zM5.41 20L4 18.59l7.72-7.72 1.47 1.35L5.41 20z\"/>\n",
              "  </svg>\n",
              "      </button>\n",
              "      \n",
              "  <style>\n",
              "    .colab-df-container {\n",
              "      display:flex;\n",
              "      flex-wrap:wrap;\n",
              "      gap: 12px;\n",
              "    }\n",
              "\n",
              "    .colab-df-convert {\n",
              "      background-color: #E8F0FE;\n",
              "      border: none;\n",
              "      border-radius: 50%;\n",
              "      cursor: pointer;\n",
              "      display: none;\n",
              "      fill: #1967D2;\n",
              "      height: 32px;\n",
              "      padding: 0 0 0 0;\n",
              "      width: 32px;\n",
              "    }\n",
              "\n",
              "    .colab-df-convert:hover {\n",
              "      background-color: #E2EBFA;\n",
              "      box-shadow: 0px 1px 2px rgba(60, 64, 67, 0.3), 0px 1px 3px 1px rgba(60, 64, 67, 0.15);\n",
              "      fill: #174EA6;\n",
              "    }\n",
              "\n",
              "    [theme=dark] .colab-df-convert {\n",
              "      background-color: #3B4455;\n",
              "      fill: #D2E3FC;\n",
              "    }\n",
              "\n",
              "    [theme=dark] .colab-df-convert:hover {\n",
              "      background-color: #434B5C;\n",
              "      box-shadow: 0px 1px 3px 1px rgba(0, 0, 0, 0.15);\n",
              "      filter: drop-shadow(0px 1px 2px rgba(0, 0, 0, 0.3));\n",
              "      fill: #FFFFFF;\n",
              "    }\n",
              "  </style>\n",
              "\n",
              "      <script>\n",
              "        const buttonEl =\n",
              "          document.querySelector('#df-8708e19e-3b26-4ac1-9397-9d01f48c427f button.colab-df-convert');\n",
              "        buttonEl.style.display =\n",
              "          google.colab.kernel.accessAllowed ? 'block' : 'none';\n",
              "\n",
              "        async function convertToInteractive(key) {\n",
              "          const element = document.querySelector('#df-8708e19e-3b26-4ac1-9397-9d01f48c427f');\n",
              "          const dataTable =\n",
              "            await google.colab.kernel.invokeFunction('convertToInteractive',\n",
              "                                                     [key], {});\n",
              "          if (!dataTable) return;\n",
              "\n",
              "          const docLinkHtml = 'Like what you see? Visit the ' +\n",
              "            '<a target=\"_blank\" href=https://colab.research.google.com/notebooks/data_table.ipynb>data table notebook</a>'\n",
              "            + ' to learn more about interactive tables.';\n",
              "          element.innerHTML = '';\n",
              "          dataTable['output_type'] = 'display_data';\n",
              "          await google.colab.output.renderOutput(dataTable, element);\n",
              "          const docLink = document.createElement('div');\n",
              "          docLink.innerHTML = docLinkHtml;\n",
              "          element.appendChild(docLink);\n",
              "        }\n",
              "      </script>\n",
              "    </div>\n",
              "  </div>\n",
              "  "
            ]
          },
          "metadata": {},
          "execution_count": 111
        }
      ]
    },
    {
      "cell_type": "code",
      "source": [
        "df = df[df['Personal Income'] != 'No Income']\n",
        "df.head(15)"
      ],
      "metadata": {
        "colab": {
          "base_uri": "https://localhost:8080/",
          "height": 842
        },
        "id": "wtIXVtKCPQYu",
        "outputId": "48d5d5f4-07bb-4939-dace-e632effec13c"
      },
      "execution_count": 112,
      "outputs": [
        {
          "output_type": "execute_result",
          "data": {
            "text/plain": [
              "                      Year       Age  Gender  \\\n",
              "2   01/01/2008 12:00:00 AM  00 to 17    Male   \n",
              "3   01/01/2008 12:00:00 AM  00 to 17    Male   \n",
              "4   01/01/2008 12:00:00 AM  00 to 17    Male   \n",
              "5   01/01/2008 12:00:00 AM  00 to 17    Male   \n",
              "6   01/01/2008 12:00:00 AM  00 to 17    Male   \n",
              "9   01/01/2008 12:00:00 AM  00 to 17    Male   \n",
              "10  01/01/2008 12:00:00 AM  00 to 17    Male   \n",
              "14  01/01/2008 12:00:00 AM  00 to 17  Female   \n",
              "15  01/01/2008 12:00:00 AM  00 to 17  Female   \n",
              "16  01/01/2008 12:00:00 AM  00 to 17  Female   \n",
              "18  01/01/2008 12:00:00 AM  00 to 17  Female   \n",
              "20  01/01/2008 12:00:00 AM  00 to 17  Female   \n",
              "22  01/01/2008 12:00:00 AM  18 to 64    Male   \n",
              "23  01/01/2008 12:00:00 AM  18 to 64    Male   \n",
              "24  01/01/2008 12:00:00 AM  18 to 64    Male   \n",
              "\n",
              "                 Educational Attainment     Personal Income  Population Count  \n",
              "2                No high school diploma    $5,000 to $9,999           30152.0  \n",
              "3                No high school diploma  $10,000 to $14,999            7092.0  \n",
              "4                No high school diploma  $15,000 to $24,999            3974.0  \n",
              "5                No high school diploma  $25,000 to $34,999            2606.0  \n",
              "6                No high school diploma  $35,000 to $49,999            2227.0  \n",
              "9   Some college, less than 4-yr degree  $10,000 to $14,999            1304.0  \n",
              "10  Some college, less than 4-yr degree  $15,000 to $24,999            3465.0  \n",
              "14               No high school diploma    $5,000 to $9,999           33202.0  \n",
              "15               No high school diploma  $10,000 to $14,999            6857.0  \n",
              "16               No high school diploma  $15,000 to $24,999            2009.0  \n",
              "18            High school or equivalent    $5,000 to $9,999            7672.0  \n",
              "20  Some college, less than 4-yr degree    $5,000 to $9,999            1565.0  \n",
              "22               No high school diploma    $5,000 to $9,999          163263.0  \n",
              "23               No high school diploma  $10,000 to $14,999          317119.0  \n",
              "24               No high school diploma  $15,000 to $24,999          573769.0  "
            ],
            "text/html": [
              "\n",
              "  <div id=\"df-26b7f9e6-0c71-47a5-ab72-8e904bb27157\">\n",
              "    <div class=\"colab-df-container\">\n",
              "      <div>\n",
              "<style scoped>\n",
              "    .dataframe tbody tr th:only-of-type {\n",
              "        vertical-align: middle;\n",
              "    }\n",
              "\n",
              "    .dataframe tbody tr th {\n",
              "        vertical-align: top;\n",
              "    }\n",
              "\n",
              "    .dataframe thead th {\n",
              "        text-align: right;\n",
              "    }\n",
              "</style>\n",
              "<table border=\"1\" class=\"dataframe\">\n",
              "  <thead>\n",
              "    <tr style=\"text-align: right;\">\n",
              "      <th></th>\n",
              "      <th>Year</th>\n",
              "      <th>Age</th>\n",
              "      <th>Gender</th>\n",
              "      <th>Educational Attainment</th>\n",
              "      <th>Personal Income</th>\n",
              "      <th>Population Count</th>\n",
              "    </tr>\n",
              "  </thead>\n",
              "  <tbody>\n",
              "    <tr>\n",
              "      <th>2</th>\n",
              "      <td>01/01/2008 12:00:00 AM</td>\n",
              "      <td>00 to 17</td>\n",
              "      <td>Male</td>\n",
              "      <td>No high school diploma</td>\n",
              "      <td>$5,000 to $9,999</td>\n",
              "      <td>30152.0</td>\n",
              "    </tr>\n",
              "    <tr>\n",
              "      <th>3</th>\n",
              "      <td>01/01/2008 12:00:00 AM</td>\n",
              "      <td>00 to 17</td>\n",
              "      <td>Male</td>\n",
              "      <td>No high school diploma</td>\n",
              "      <td>$10,000 to $14,999</td>\n",
              "      <td>7092.0</td>\n",
              "    </tr>\n",
              "    <tr>\n",
              "      <th>4</th>\n",
              "      <td>01/01/2008 12:00:00 AM</td>\n",
              "      <td>00 to 17</td>\n",
              "      <td>Male</td>\n",
              "      <td>No high school diploma</td>\n",
              "      <td>$15,000 to $24,999</td>\n",
              "      <td>3974.0</td>\n",
              "    </tr>\n",
              "    <tr>\n",
              "      <th>5</th>\n",
              "      <td>01/01/2008 12:00:00 AM</td>\n",
              "      <td>00 to 17</td>\n",
              "      <td>Male</td>\n",
              "      <td>No high school diploma</td>\n",
              "      <td>$25,000 to $34,999</td>\n",
              "      <td>2606.0</td>\n",
              "    </tr>\n",
              "    <tr>\n",
              "      <th>6</th>\n",
              "      <td>01/01/2008 12:00:00 AM</td>\n",
              "      <td>00 to 17</td>\n",
              "      <td>Male</td>\n",
              "      <td>No high school diploma</td>\n",
              "      <td>$35,000 to $49,999</td>\n",
              "      <td>2227.0</td>\n",
              "    </tr>\n",
              "    <tr>\n",
              "      <th>9</th>\n",
              "      <td>01/01/2008 12:00:00 AM</td>\n",
              "      <td>00 to 17</td>\n",
              "      <td>Male</td>\n",
              "      <td>Some college, less than 4-yr degree</td>\n",
              "      <td>$10,000 to $14,999</td>\n",
              "      <td>1304.0</td>\n",
              "    </tr>\n",
              "    <tr>\n",
              "      <th>10</th>\n",
              "      <td>01/01/2008 12:00:00 AM</td>\n",
              "      <td>00 to 17</td>\n",
              "      <td>Male</td>\n",
              "      <td>Some college, less than 4-yr degree</td>\n",
              "      <td>$15,000 to $24,999</td>\n",
              "      <td>3465.0</td>\n",
              "    </tr>\n",
              "    <tr>\n",
              "      <th>14</th>\n",
              "      <td>01/01/2008 12:00:00 AM</td>\n",
              "      <td>00 to 17</td>\n",
              "      <td>Female</td>\n",
              "      <td>No high school diploma</td>\n",
              "      <td>$5,000 to $9,999</td>\n",
              "      <td>33202.0</td>\n",
              "    </tr>\n",
              "    <tr>\n",
              "      <th>15</th>\n",
              "      <td>01/01/2008 12:00:00 AM</td>\n",
              "      <td>00 to 17</td>\n",
              "      <td>Female</td>\n",
              "      <td>No high school diploma</td>\n",
              "      <td>$10,000 to $14,999</td>\n",
              "      <td>6857.0</td>\n",
              "    </tr>\n",
              "    <tr>\n",
              "      <th>16</th>\n",
              "      <td>01/01/2008 12:00:00 AM</td>\n",
              "      <td>00 to 17</td>\n",
              "      <td>Female</td>\n",
              "      <td>No high school diploma</td>\n",
              "      <td>$15,000 to $24,999</td>\n",
              "      <td>2009.0</td>\n",
              "    </tr>\n",
              "    <tr>\n",
              "      <th>18</th>\n",
              "      <td>01/01/2008 12:00:00 AM</td>\n",
              "      <td>00 to 17</td>\n",
              "      <td>Female</td>\n",
              "      <td>High school or equivalent</td>\n",
              "      <td>$5,000 to $9,999</td>\n",
              "      <td>7672.0</td>\n",
              "    </tr>\n",
              "    <tr>\n",
              "      <th>20</th>\n",
              "      <td>01/01/2008 12:00:00 AM</td>\n",
              "      <td>00 to 17</td>\n",
              "      <td>Female</td>\n",
              "      <td>Some college, less than 4-yr degree</td>\n",
              "      <td>$5,000 to $9,999</td>\n",
              "      <td>1565.0</td>\n",
              "    </tr>\n",
              "    <tr>\n",
              "      <th>22</th>\n",
              "      <td>01/01/2008 12:00:00 AM</td>\n",
              "      <td>18 to 64</td>\n",
              "      <td>Male</td>\n",
              "      <td>No high school diploma</td>\n",
              "      <td>$5,000 to $9,999</td>\n",
              "      <td>163263.0</td>\n",
              "    </tr>\n",
              "    <tr>\n",
              "      <th>23</th>\n",
              "      <td>01/01/2008 12:00:00 AM</td>\n",
              "      <td>18 to 64</td>\n",
              "      <td>Male</td>\n",
              "      <td>No high school diploma</td>\n",
              "      <td>$10,000 to $14,999</td>\n",
              "      <td>317119.0</td>\n",
              "    </tr>\n",
              "    <tr>\n",
              "      <th>24</th>\n",
              "      <td>01/01/2008 12:00:00 AM</td>\n",
              "      <td>18 to 64</td>\n",
              "      <td>Male</td>\n",
              "      <td>No high school diploma</td>\n",
              "      <td>$15,000 to $24,999</td>\n",
              "      <td>573769.0</td>\n",
              "    </tr>\n",
              "  </tbody>\n",
              "</table>\n",
              "</div>\n",
              "      <button class=\"colab-df-convert\" onclick=\"convertToInteractive('df-26b7f9e6-0c71-47a5-ab72-8e904bb27157')\"\n",
              "              title=\"Convert this dataframe to an interactive table.\"\n",
              "              style=\"display:none;\">\n",
              "        \n",
              "  <svg xmlns=\"http://www.w3.org/2000/svg\" height=\"24px\"viewBox=\"0 0 24 24\"\n",
              "       width=\"24px\">\n",
              "    <path d=\"M0 0h24v24H0V0z\" fill=\"none\"/>\n",
              "    <path d=\"M18.56 5.44l.94 2.06.94-2.06 2.06-.94-2.06-.94-.94-2.06-.94 2.06-2.06.94zm-11 1L8.5 8.5l.94-2.06 2.06-.94-2.06-.94L8.5 2.5l-.94 2.06-2.06.94zm10 10l.94 2.06.94-2.06 2.06-.94-2.06-.94-.94-2.06-.94 2.06-2.06.94z\"/><path d=\"M17.41 7.96l-1.37-1.37c-.4-.4-.92-.59-1.43-.59-.52 0-1.04.2-1.43.59L10.3 9.45l-7.72 7.72c-.78.78-.78 2.05 0 2.83L4 21.41c.39.39.9.59 1.41.59.51 0 1.02-.2 1.41-.59l7.78-7.78 2.81-2.81c.8-.78.8-2.07 0-2.86zM5.41 20L4 18.59l7.72-7.72 1.47 1.35L5.41 20z\"/>\n",
              "  </svg>\n",
              "      </button>\n",
              "      \n",
              "  <style>\n",
              "    .colab-df-container {\n",
              "      display:flex;\n",
              "      flex-wrap:wrap;\n",
              "      gap: 12px;\n",
              "    }\n",
              "\n",
              "    .colab-df-convert {\n",
              "      background-color: #E8F0FE;\n",
              "      border: none;\n",
              "      border-radius: 50%;\n",
              "      cursor: pointer;\n",
              "      display: none;\n",
              "      fill: #1967D2;\n",
              "      height: 32px;\n",
              "      padding: 0 0 0 0;\n",
              "      width: 32px;\n",
              "    }\n",
              "\n",
              "    .colab-df-convert:hover {\n",
              "      background-color: #E2EBFA;\n",
              "      box-shadow: 0px 1px 2px rgba(60, 64, 67, 0.3), 0px 1px 3px 1px rgba(60, 64, 67, 0.15);\n",
              "      fill: #174EA6;\n",
              "    }\n",
              "\n",
              "    [theme=dark] .colab-df-convert {\n",
              "      background-color: #3B4455;\n",
              "      fill: #D2E3FC;\n",
              "    }\n",
              "\n",
              "    [theme=dark] .colab-df-convert:hover {\n",
              "      background-color: #434B5C;\n",
              "      box-shadow: 0px 1px 3px 1px rgba(0, 0, 0, 0.15);\n",
              "      filter: drop-shadow(0px 1px 2px rgba(0, 0, 0, 0.3));\n",
              "      fill: #FFFFFF;\n",
              "    }\n",
              "  </style>\n",
              "\n",
              "      <script>\n",
              "        const buttonEl =\n",
              "          document.querySelector('#df-26b7f9e6-0c71-47a5-ab72-8e904bb27157 button.colab-df-convert');\n",
              "        buttonEl.style.display =\n",
              "          google.colab.kernel.accessAllowed ? 'block' : 'none';\n",
              "\n",
              "        async function convertToInteractive(key) {\n",
              "          const element = document.querySelector('#df-26b7f9e6-0c71-47a5-ab72-8e904bb27157');\n",
              "          const dataTable =\n",
              "            await google.colab.kernel.invokeFunction('convertToInteractive',\n",
              "                                                     [key], {});\n",
              "          if (!dataTable) return;\n",
              "\n",
              "          const docLinkHtml = 'Like what you see? Visit the ' +\n",
              "            '<a target=\"_blank\" href=https://colab.research.google.com/notebooks/data_table.ipynb>data table notebook</a>'\n",
              "            + ' to learn more about interactive tables.';\n",
              "          element.innerHTML = '';\n",
              "          dataTable['output_type'] = 'display_data';\n",
              "          await google.colab.output.renderOutput(dataTable, element);\n",
              "          const docLink = document.createElement('div');\n",
              "          docLink.innerHTML = docLinkHtml;\n",
              "          element.appendChild(docLink);\n",
              "        }\n",
              "      </script>\n",
              "    </div>\n",
              "  </div>\n",
              "  "
            ]
          },
          "metadata": {},
          "execution_count": 112
        }
      ]
    },
    {
      "cell_type": "code",
      "source": [
        "df['Age'] = df['Age'].astype('category')"
      ],
      "metadata": {
        "id": "_nV1lCG1PjmT"
      },
      "execution_count": 113,
      "outputs": []
    },
    {
      "cell_type": "code",
      "source": [
        "df['Personal Income'] = df['Personal Income'].astype('category')"
      ],
      "metadata": {
        "id": "9TGjg6-vP2xU"
      },
      "execution_count": 114,
      "outputs": []
    },
    {
      "cell_type": "code",
      "source": [
        "plt.bar(df['Gender'],df['Population Count'])"
      ],
      "metadata": {
        "colab": {
          "base_uri": "https://localhost:8080/",
          "height": 294
        },
        "id": "RPrrSag8QFGD",
        "outputId": "48f919bd-9a87-4817-a743-b24b4f20eb0b"
      },
      "execution_count": 115,
      "outputs": [
        {
          "output_type": "execute_result",
          "data": {
            "text/plain": [
              "<BarContainer object of 887 artists>"
            ]
          },
          "metadata": {},
          "execution_count": 115
        },
        {
          "output_type": "display_data",
          "data": {
            "text/plain": [
              "<Figure size 432x288 with 1 Axes>"
            ],
            "image/png": "[encoded data removed]"
          },
          "metadata": {
            "needs_background": "light"
          }
        }
      ]
    },
    {
      "cell_type": "code",
      "source": [
        "plt.barh(df['Gender'],df['Population Count'])"
      ],
      "metadata": {
        "colab": {
          "base_uri": "https://localhost:8080/",
          "height": 296
        },
        "id": "tP5GNjFlQH8t",
        "outputId": "96ee25a9-4d25-48b9-d004-dcddb57fc0ac"
      },
      "execution_count": 116,
      "outputs": [
        {
          "output_type": "execute_result",
          "data": {
            "text/plain": [
              "<BarContainer object of 887 artists>"
            ]
          },
          "metadata": {},
          "execution_count": 116
        },
        {
          "output_type": "display_data",
          "data": {
            "text/plain": [
              "<Figure size 432x288 with 1 Axes>"
            ],
            "image/png": "[encoded data removed]"
          },
          "metadata": {
            "needs_background": "light"
          }
        }
      ]
    },
    {
      "cell_type": "code",
      "source": [
        "df.shape"
      ],
      "metadata": {
        "colab": {
          "base_uri": "https://localhost:8080/"
        },
        "id": "mK_U_kubQiYg",
        "outputId": "0d67db47-cce3-4a92-fb83-f936fbbc8c3e"
      },
      "execution_count": 117,
      "outputs": [
        {
          "output_type": "execute_result",
          "data": {
            "text/plain": [
              "(887, 6)"
            ]
          },
          "metadata": {},
          "execution_count": 117
        }
      ]
    },
    {
      "cell_type": "code",
      "source": [
        "freq_df = df.groupby(['Gender','Age']).count()['Educational Attainment']\n",
        "freq_df.head()\n",
        "freq_df.plot.bar()\n"
      ],
      "metadata": {
        "colab": {
          "base_uri": "https://localhost:8080/",
          "height": 387
        },
        "id": "cNoi42AVRFuX",
        "outputId": "3f39fab7-175b-434a-91b6-a1312ddd364b"
      },
      "execution_count": 118,
      "outputs": [
        {
          "output_type": "execute_result",
          "data": {
            "text/plain": [
              "<matplotlib.axes._subplots.AxesSubplot at 0x7f03dd1a3970>"
            ]
          },
          "metadata": {},
          "execution_count": 118
        },
        {
          "output_type": "display_data",
          "data": {
            "text/plain": [
              "<Figure size 432x288 with 1 Axes>"
            ],
            "image/png": "[encoded data removed]"
          },
          "metadata": {
            "needs_background": "light"
          }
        }
      ]
    },
    {
      "cell_type": "code",
      "source": [
        "df.groupby('Gender').Age.value_counts().unstack(0).plot.barh()"
      ],
      "metadata": {
        "colab": {
          "base_uri": "https://localhost:8080/",
          "height": 283
        },
        "id": "rEvLQEMzS-Z8",
        "outputId": "42151340-410a-4ae3-f247-677f18edece9"
      },
      "execution_count": 119,
      "outputs": [
        {
          "output_type": "execute_result",
          "data": {
            "text/plain": [
              "<matplotlib.axes._subplots.AxesSubplot at 0x7f03dd12afa0>"
            ]
          },
          "metadata": {},
          "execution_count": 119
        },
        {
          "output_type": "display_data",
          "data": {
            "text/plain": [
              "<Figure size 432x288 with 1 Axes>"
            ],
            "image/png": "[encoded data removed]"
          },
          "metadata": {
            "needs_background": "light"
          }
        }
      ]
    },
    {
      "cell_type": "code",
      "source": [
        "plt.scatter(df['Educational Attainment'],df['Population Count'])\n",
        "plt.xticks(rotation=90)\n",
        "plt.show()"
      ],
      "metadata": {
        "colab": {
          "base_uri": "https://localhost:8080/",
          "height": 446
        },
        "id": "xYyyznFUTE91",
        "outputId": "fb7b8337-aa53-4c56-b4f1-c209b1307776"
      },
      "execution_count": 120,
      "outputs": [
        {
          "output_type": "display_data",
          "data": {
            "text/plain": [
              "<Figure size 432x288 with 1 Axes>"
            ],
            "image/png": "[encoded data removed]"
          },
          "metadata": {
            "needs_background": "light"
          }
        }
      ]
    },
    {
      "cell_type": "code",
      "source": [
        "plt.scatter(df['Educational Attainment'],df['Personal Income'])\n",
        "plt.xticks(rotation=90)\n",
        "plt.show()"
      ],
      "metadata": {
        "colab": {
          "base_uri": "https://localhost:8080/",
          "height": 435
        },
        "id": "ezPHjuuKTaBS",
        "outputId": "e6445756-09b3-4da1-c079-94eb476aba08"
      },
      "execution_count": 121,
      "outputs": [
        {
          "output_type": "display_data",
          "data": {
            "text/plain": [
              "<Figure size 432x288 with 1 Axes>"
            ],
            "image/png": "[encoded data removed]"
          },
          "metadata": {
            "needs_background": "light"
          }
        }
      ]
    },
    {
      "cell_type": "code",
      "source": [
        "df=df.dropna(subset=['Population Count'])\n",
        "plt.boxplot(df['Population Count'])"
      ],
      "metadata": {
        "colab": {
          "base_uri": "https://localhost:8080/",
          "height": 419
        },
        "id": "zk92uatsU2EP",
        "outputId": "d17def84-b0fa-42f6-de0b-0e485bef5b2e"
      },
      "execution_count": 128,
      "outputs": [
        {
          "output_type": "execute_result",
          "data": {
            "text/plain": [
              "{'whiskers': [<matplotlib.lines.Line2D at 0x7f03dcec6b20>,\n",
              "  <matplotlib.lines.Line2D at 0x7f03dcec63a0>],\n",
              " 'caps': [<matplotlib.lines.Line2D at 0x7f03dcec6ca0>,\n",
              "  <matplotlib.lines.Line2D at 0x7f03dd1f2f40>],\n",
              " 'boxes': [<matplotlib.lines.Line2D at 0x7f03dcec6df0>],\n",
              " 'medians': [<matplotlib.lines.Line2D at 0x7f03dcf4ccd0>],\n",
              " 'fliers': [<matplotlib.lines.Line2D at 0x7f03dceb6a90>],\n",
              " 'means': []}"
            ]
          },
          "metadata": {},
          "execution_count": 128
        },
        {
          "output_type": "display_data",
          "data": {
            "text/plain": [
              "<Figure size 432x288 with 1 Axes>"
            ],
            "image/png": "[encoded data removed]"
          },
          "metadata": {
            "needs_background": "light"
          }
        }
      ]
    },
    {
      "cell_type": "code",
      "source": [
        "plt.plot(df['Educational Attainment'], df['Population Count'])\n",
        "plt.xticks(rotation=90)\n",
        "plt.show()"
      ],
      "metadata": {
        "colab": {
          "base_uri": "https://localhost:8080/",
          "height": 446
        },
        "id": "ZeJ3vh3TWPKN",
        "outputId": "61ece45c-97ca-4f3f-f5d5-818d939294cc"
      },
      "execution_count": 130,
      "outputs": [
        {
          "output_type": "display_data",
          "data": {
            "text/plain": [
              "<Figure size 432x288 with 1 Axes>"
            ],
            "image/png": "[encoded data removed]"
          },
          "metadata": {
            "needs_background": "light"
          }
        }
      ]
    },
    {
      "cell_type": "code",
      "source": [
        "df['Educational Attainment'] = df['Educational Attainment'].astype('category')\n",
        "freq_df2 = df.groupby(['Educational Attainment']).count()['Population Count']\n",
        "freq_df2.plot()\n",
        "plt.xticks(rotation=90)\n"
      ],
      "metadata": {
        "colab": {
          "base_uri": "https://localhost:8080/",
          "height": 485
        },
        "id": "ok5_QevoZLjh",
        "outputId": "96f8326f-e647-4d25-9dae-d32f31d4bf5f"
      },
      "execution_count": 131,
      "outputs": [
        {
          "output_type": "execute_result",
          "data": {
            "text/plain": [
              "(array([-0.5,  0. ,  0.5,  1. ,  1.5,  2. ,  2.5,  3. ,  3.5]),\n",
              " <a list of 9 Text major ticklabel objects>)"
            ]
          },
          "metadata": {},
          "execution_count": 131
        },
        {
          "output_type": "display_data",
          "data": {
            "text/plain": [
              "<Figure size 432x288 with 1 Axes>"
            ],
            "image/png": "[encoded data removed]"
          },
          "metadata": {
            "needs_background": "light"
          }
        }
      ]
    },
    {
      "cell_type": "code",
      "source": [
        "plt.plot(df['Year'],df['Population Count'])\n",
        "plt.xticks(rotation=90)"
      ],
      "metadata": {
        "colab": {
          "base_uri": "https://localhost:8080/",
          "height": 408
        },
        "id": "_saUb5OqZj-d",
        "outputId": "7a84a810-faf9-4ac5-c7a5-94402b05c1b9"
      },
      "execution_count": 135,
      "outputs": [
        {
          "output_type": "execute_result",
          "data": {
            "text/plain": [
              "([0, 1, 2, 3, 4, 5, 6], <a list of 7 Text major ticklabel objects>)"
            ]
          },
          "metadata": {},
          "execution_count": 135
        },
        {
          "output_type": "display_data",
          "data": {
            "text/plain": [
              "<Figure size 432x288 with 1 Axes>"
            ],
            "image/png": "[encoded data removed]"
          },
          "metadata": {
            "needs_background": "light"
          }
        }
      ]
    }
  ]
}