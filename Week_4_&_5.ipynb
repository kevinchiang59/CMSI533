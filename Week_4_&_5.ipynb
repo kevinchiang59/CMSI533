{
  "nbformat": 4,
  "nbformat_minor": 0,
  "metadata": {
    "colab": {
      "provenance": []
    },
    "kernelspec": {
      "name": "python3",
      "display_name": "Python 3"
    },
    "language_info": {
      "name": "python"
    }
  },
  "cells": [
    {
      "cell_type": "code",
      "execution_count": 1,
      "metadata": {
        "id": "aL7fp0a3Jzyl"
      },
      "outputs": [],
      "source": [
        "import matplotlib.pyplot as plt\n",
        "import pandas as pd\n",
        "import numpy as np\n"
      ]
    },
    {
      "cell_type": "code",
      "source": [
        "df = pd.read_csv(\"ca-educational-attainment-personal-income-2008-2014.csv\")"
      ],
      "metadata": {
        "id": "vHSgfx0lKf1N"
      },
      "execution_count": 2,
      "outputs": []
    },
    {
      "cell_type": "code",
      "source": [
        "df.head(15)"
      ],
      "metadata": {
        "colab": {
          "base_uri": "https://localhost:8080/",
          "height": 520
        },
        "id": "XImjvll0Kt9m",
        "outputId": "a61ffddf-9802-42b3-ca90-27b8477e5dd1"
      },
      "execution_count": 3,
      "outputs": [
        {
          "output_type": "execute_result",
          "data": {
            "text/plain": [
              "                      Year       Age  Gender  \\\n",
              "0   01/01/2008 12:00:00 AM  00 to 17    Male   \n",
              "1   01/01/2008 12:00:00 AM  00 to 17    Male   \n",
              "2   01/01/2008 12:00:00 AM  00 to 17    Male   \n",
              "3   01/01/2008 12:00:00 AM  00 to 17    Male   \n",
              "4   01/01/2008 12:00:00 AM  00 to 17    Male   \n",
              "5   01/01/2008 12:00:00 AM  00 to 17    Male   \n",
              "6   01/01/2008 12:00:00 AM  00 to 17    Male   \n",
              "7   01/01/2008 12:00:00 AM  00 to 17    Male   \n",
              "8   01/01/2008 12:00:00 AM  00 to 17    Male   \n",
              "9   01/01/2008 12:00:00 AM  00 to 17    Male   \n",
              "10  01/01/2008 12:00:00 AM  00 to 17    Male   \n",
              "11  01/01/2008 12:00:00 AM  00 to 17    Male   \n",
              "12  01/01/2008 12:00:00 AM  00 to 17  Female   \n",
              "13  01/01/2008 12:00:00 AM  00 to 17  Female   \n",
              "14  01/01/2008 12:00:00 AM  00 to 17  Female   \n",
              "\n",
              "                 Educational Attainment     Personal Income  Population Count  \n",
              "0                     Children under 15           No Income               NaN  \n",
              "1                No high school diploma           No Income          650889.0  \n",
              "2                No high school diploma    $5,000 to $9,999           30152.0  \n",
              "3                No high school diploma  $10,000 to $14,999            7092.0  \n",
              "4                No high school diploma  $15,000 to $24,999            3974.0  \n",
              "5                No high school diploma  $25,000 to $34,999            2606.0  \n",
              "6                No high school diploma  $35,000 to $49,999            2227.0  \n",
              "7             High school or equivalent           No Income               NaN  \n",
              "8   Some college, less than 4-yr degree           No Income            8664.0  \n",
              "9   Some college, less than 4-yr degree  $10,000 to $14,999            1304.0  \n",
              "10  Some college, less than 4-yr degree  $15,000 to $24,999            3465.0  \n",
              "11          Bachelor's degree or higher           No Income               NaN  \n",
              "12                    Children under 15           No Income               NaN  \n",
              "13               No high school diploma           No Income          635274.0  \n",
              "14               No high school diploma    $5,000 to $9,999           33202.0  "
            ],
            "text/html": [
              "\n",
              "  <div id=\"df-8440bfe0-342e-4095-9db3-9bc81118f39d\">\n",
              "    <div class=\"colab-df-container\">\n",
              "      <div>\n",
              "<style scoped>\n",
              "    .dataframe tbody tr th:only-of-type {\n",
              "        vertical-align: middle;\n",
              "    }\n",
              "\n",
              "    .dataframe tbody tr th {\n",
              "        vertical-align: top;\n",
              "    }\n",
              "\n",
              "    .dataframe thead th {\n",
              "        text-align: right;\n",
              "    }\n",
              "</style>\n",
              "<table border=\"1\" class=\"dataframe\">\n",
              "  <thead>\n",
              "    <tr style=\"text-align: right;\">\n",
              "      <th></th>\n",
              "      <th>Year</th>\n",
              "      <th>Age</th>\n",
              "      <th>Gender</th>\n",
              "      <th>Educational Attainment</th>\n",
              "      <th>Personal Income</th>\n",
              "      <th>Population Count</th>\n",
              "    </tr>\n",
              "  </thead>\n",
              "  <tbody>\n",
              "    <tr>\n",
              "      <th>0</th>\n",
              "      <td>01/01/2008 12:00:00 AM</td>\n",
              "      <td>00 to 17</td>\n",
              "      <td>Male</td>\n",
              "      <td>Children under 15</td>\n",
              "      <td>No Income</td>\n",
              "      <td>NaN</td>\n",
              "    </tr>\n",
              "    <tr>\n",
              "      <th>1</th>\n",
              "      <td>01/01/2008 12:00:00 AM</td>\n",
              "      <td>00 to 17</td>\n",
              "      <td>Male</td>\n",
              "      <td>No high school diploma</td>\n",
              "      <td>No Income</td>\n",
              "      <td>650889.0</td>\n",
              "    </tr>\n",
              "    <tr>\n",
              "      <th>2</th>\n",
              "      <td>01/01/2008 12:00:00 AM</td>\n",
              "      <td>00 to 17</td>\n",
              "      <td>Male</td>\n",
              "      <td>No high school diploma</td>\n",
              "      <td>$5,000 to $9,999</td>\n",
              "      <td>30152.0</td>\n",
              "    </tr>\n",
              "    <tr>\n",
              "      <th>3</th>\n",
              "      <td>01/01/2008 12:00:00 AM</td>\n",
              "      <td>00 to 17</td>\n",
              "      <td>Male</td>\n",
              "      <td>No high school diploma</td>\n",
              "      <td>$10,000 to $14,999</td>\n",
              "      <td>7092.0</td>\n",
              "    </tr>\n",
              "    <tr>\n",
              "      <th>4</th>\n",
              "      <td>01/01/2008 12:00:00 AM</td>\n",
              "      <td>00 to 17</td>\n",
              "      <td>Male</td>\n",
              "      <td>No high school diploma</td>\n",
              "      <td>$15,000 to $24,999</td>\n",
              "      <td>3974.0</td>\n",
              "    </tr>\n",
              "    <tr>\n",
              "      <th>5</th>\n",
              "      <td>01/01/2008 12:00:00 AM</td>\n",
              "      <td>00 to 17</td>\n",
              "      <td>Male</td>\n",
              "      <td>No high school diploma</td>\n",
              "      <td>$25,000 to $34,999</td>\n",
              "      <td>2606.0</td>\n",
              "    </tr>\n",
              "    <tr>\n",
              "      <th>6</th>\n",
              "      <td>01/01/2008 12:00:00 AM</td>\n",
              "      <td>00 to 17</td>\n",
              "      <td>Male</td>\n",
              "      <td>No high school diploma</td>\n",
              "      <td>$35,000 to $49,999</td>\n",
              "      <td>2227.0</td>\n",
              "    </tr>\n",
              "    <tr>\n",
              "      <th>7</th>\n",
              "      <td>01/01/2008 12:00:00 AM</td>\n",
              "      <td>00 to 17</td>\n",
              "      <td>Male</td>\n",
              "      <td>High school or equivalent</td>\n",
              "      <td>No Income</td>\n",
              "      <td>NaN</td>\n",
              "    </tr>\n",
              "    <tr>\n",
              "      <th>8</th>\n",
              "      <td>01/01/2008 12:00:00 AM</td>\n",
              "      <td>00 to 17</td>\n",
              "      <td>Male</td>\n",
              "      <td>Some college, less than 4-yr degree</td>\n",
              "      <td>No Income</td>\n",
              "      <td>8664.0</td>\n",
              "    </tr>\n",
              "    <tr>\n",
              "      <th>9</th>\n",
              "      <td>01/01/2008 12:00:00 AM</td>\n",
              "      <td>00 to 17</td>\n",
              "      <td>Male</td>\n",
              "      <td>Some college, less than 4-yr degree</td>\n",
              "      <td>$10,000 to $14,999</td>\n",
              "      <td>1304.0</td>\n",
              "    </tr>\n",
              "    <tr>\n",
              "      <th>10</th>\n",
              "      <td>01/01/2008 12:00:00 AM</td>\n",
              "      <td>00 to 17</td>\n",
              "      <td>Male</td>\n",
              "      <td>Some college, less than 4-yr degree</td>\n",
              "      <td>$15,000 to $24,999</td>\n",
              "      <td>3465.0</td>\n",
              "    </tr>\n",
              "    <tr>\n",
              "      <th>11</th>\n",
              "      <td>01/01/2008 12:00:00 AM</td>\n",
              "      <td>00 to 17</td>\n",
              "      <td>Male</td>\n",
              "      <td>Bachelor's degree or higher</td>\n",
              "      <td>No Income</td>\n",
              "      <td>NaN</td>\n",
              "    </tr>\n",
              "    <tr>\n",
              "      <th>12</th>\n",
              "      <td>01/01/2008 12:00:00 AM</td>\n",
              "      <td>00 to 17</td>\n",
              "      <td>Female</td>\n",
              "      <td>Children under 15</td>\n",
              "      <td>No Income</td>\n",
              "      <td>NaN</td>\n",
              "    </tr>\n",
              "    <tr>\n",
              "      <th>13</th>\n",
              "      <td>01/01/2008 12:00:00 AM</td>\n",
              "      <td>00 to 17</td>\n",
              "      <td>Female</td>\n",
              "      <td>No high school diploma</td>\n",
              "      <td>No Income</td>\n",
              "      <td>635274.0</td>\n",
              "    </tr>\n",
              "    <tr>\n",
              "      <th>14</th>\n",
              "      <td>01/01/2008 12:00:00 AM</td>\n",
              "      <td>00 to 17</td>\n",
              "      <td>Female</td>\n",
              "      <td>No high school diploma</td>\n",
              "      <td>$5,000 to $9,999</td>\n",
              "      <td>33202.0</td>\n",
              "    </tr>\n",
              "  </tbody>\n",
              "</table>\n",
              "</div>\n",
              "      <button class=\"colab-df-convert\" onclick=\"convertToInteractive('df-8440bfe0-342e-4095-9db3-9bc81118f39d')\"\n",
              "              title=\"Convert this dataframe to an interactive table.\"\n",
              "              style=\"display:none;\">\n",
              "        \n",
              "  <svg xmlns=\"http://www.w3.org/2000/svg\" height=\"24px\"viewBox=\"0 0 24 24\"\n",
              "       width=\"24px\">\n",
              "    <path d=\"M0 0h24v24H0V0z\" fill=\"none\"/>\n",
              "    <path d=\"M18.56 5.44l.94 2.06.94-2.06 2.06-.94-2.06-.94-.94-2.06-.94 2.06-2.06.94zm-11 1L8.5 8.5l.94-2.06 2.06-.94-2.06-.94L8.5 2.5l-.94 2.06-2.06.94zm10 10l.94 2.06.94-2.06 2.06-.94-2.06-.94-.94-2.06-.94 2.06-2.06.94z\"/><path d=\"M17.41 7.96l-1.37-1.37c-.4-.4-.92-.59-1.43-.59-.52 0-1.04.2-1.43.59L10.3 9.45l-7.72 7.72c-.78.78-.78 2.05 0 2.83L4 21.41c.39.39.9.59 1.41.59.51 0 1.02-.2 1.41-.59l7.78-7.78 2.81-2.81c.8-.78.8-2.07 0-2.86zM5.41 20L4 18.59l7.72-7.72 1.47 1.35L5.41 20z\"/>\n",
              "  </svg>\n",
              "      </button>\n",
              "      \n",
              "  <style>\n",
              "    .colab-df-container {\n",
              "      display:flex;\n",
              "      flex-wrap:wrap;\n",
              "      gap: 12px;\n",
              "    }\n",
              "\n",
              "    .colab-df-convert {\n",
              "      background-color: #E8F0FE;\n",
              "      border: none;\n",
              "      border-radius: 50%;\n",
              "      cursor: pointer;\n",
              "      display: none;\n",
              "      fill: #1967D2;\n",
              "      height: 32px;\n",
              "      padding: 0 0 0 0;\n",
              "      width: 32px;\n",
              "    }\n",
              "\n",
              "    .colab-df-convert:hover {\n",
              "      background-color: #E2EBFA;\n",
              "      box-shadow: 0px 1px 2px rgba(60, 64, 67, 0.3), 0px 1px 3px 1px rgba(60, 64, 67, 0.15);\n",
              "      fill: #174EA6;\n",
              "    }\n",
              "\n",
              "    [theme=dark] .colab-df-convert {\n",
              "      background-color: #3B4455;\n",
              "      fill: #D2E3FC;\n",
              "    }\n",
              "\n",
              "    [theme=dark] .colab-df-convert:hover {\n",
              "      background-color: #434B5C;\n",
              "      box-shadow: 0px 1px 3px 1px rgba(0, 0, 0, 0.15);\n",
              "      filter: drop-shadow(0px 1px 2px rgba(0, 0, 0, 0.3));\n",
              "      fill: #FFFFFF;\n",
              "    }\n",
              "  </style>\n",
              "\n",
              "      <script>\n",
              "        const buttonEl =\n",
              "          document.querySelector('#df-8440bfe0-342e-4095-9db3-9bc81118f39d button.colab-df-convert');\n",
              "        buttonEl.style.display =\n",
              "          google.colab.kernel.accessAllowed ? 'block' : 'none';\n",
              "\n",
              "        async function convertToInteractive(key) {\n",
              "          const element = document.querySelector('#df-8440bfe0-342e-4095-9db3-9bc81118f39d');\n",
              "          const dataTable =\n",
              "            await google.colab.kernel.invokeFunction('convertToInteractive',\n",
              "                                                     [key], {});\n",
              "          if (!dataTable) return;\n",
              "\n",
              "          const docLinkHtml = 'Like what you see? Visit the ' +\n",
              "            '<a target=\"_blank\" href=https://colab.research.google.com/notebooks/data_table.ipynb>data table notebook</a>'\n",
              "            + ' to learn more about interactive tables.';\n",
              "          element.innerHTML = '';\n",
              "          dataTable['output_type'] = 'display_data';\n",
              "          await google.colab.output.renderOutput(dataTable, element);\n",
              "          const docLink = document.createElement('div');\n",
              "          docLink.innerHTML = docLinkHtml;\n",
              "          element.appendChild(docLink);\n",
              "        }\n",
              "      </script>\n",
              "    </div>\n",
              "  </div>\n",
              "  "
            ]
          },
          "metadata": {},
          "execution_count": 3
        }
      ]
    },
    {
      "cell_type": "code",
      "source": [
        "df.describe()"
      ],
      "metadata": {
        "id": "rINpm5CxKy8H",
        "outputId": "16f924c6-e1dc-44a7-a21d-ebf8c32ed241",
        "colab": {
          "base_uri": "https://localhost:8080/",
          "height": 300
        }
      },
      "execution_count": 4,
      "outputs": [
        {
          "output_type": "execute_result",
          "data": {
            "text/plain": [
              "       Population Count\n",
              "count      1.026000e+03\n",
              "mean       1.855429e+05\n",
              "std        2.187005e+05\n",
              "min        1.048000e+03\n",
              "25%        3.052250e+04\n",
              "50%        9.039300e+04\n",
              "75%        2.879518e+05\n",
              "max        1.643095e+06"
            ],
            "text/html": [
              "\n",
              "  <div id=\"df-740a9aba-0b4f-49a0-9fb4-b71e549344e8\">\n",
              "    <div class=\"colab-df-container\">\n",
              "      <div>\n",
              "<style scoped>\n",
              "    .dataframe tbody tr th:only-of-type {\n",
              "        vertical-align: middle;\n",
              "    }\n",
              "\n",
              "    .dataframe tbody tr th {\n",
              "        vertical-align: top;\n",
              "    }\n",
              "\n",
              "    .dataframe thead th {\n",
              "        text-align: right;\n",
              "    }\n",
              "</style>\n",
              "<table border=\"1\" class=\"dataframe\">\n",
              "  <thead>\n",
              "    <tr style=\"text-align: right;\">\n",
              "      <th></th>\n",
              "      <th>Population Count</th>\n",
              "    </tr>\n",
              "  </thead>\n",
              "  <tbody>\n",
              "    <tr>\n",
              "      <th>count</th>\n",
              "      <td>1.026000e+03</td>\n",
              "    </tr>\n",
              "    <tr>\n",
              "      <th>mean</th>\n",
              "      <td>1.855429e+05</td>\n",
              "    </tr>\n",
              "    <tr>\n",
              "      <th>std</th>\n",
              "      <td>2.187005e+05</td>\n",
              "    </tr>\n",
              "    <tr>\n",
              "      <th>min</th>\n",
              "      <td>1.048000e+03</td>\n",
              "    </tr>\n",
              "    <tr>\n",
              "      <th>25%</th>\n",
              "      <td>3.052250e+04</td>\n",
              "    </tr>\n",
              "    <tr>\n",
              "      <th>50%</th>\n",
              "      <td>9.039300e+04</td>\n",
              "    </tr>\n",
              "    <tr>\n",
              "      <th>75%</th>\n",
              "      <td>2.879518e+05</td>\n",
              "    </tr>\n",
              "    <tr>\n",
              "      <th>max</th>\n",
              "      <td>1.643095e+06</td>\n",
              "    </tr>\n",
              "  </tbody>\n",
              "</table>\n",
              "</div>\n",
              "      <button class=\"colab-df-convert\" onclick=\"convertToInteractive('df-740a9aba-0b4f-49a0-9fb4-b71e549344e8')\"\n",
              "              title=\"Convert this dataframe to an interactive table.\"\n",
              "              style=\"display:none;\">\n",
              "        \n",
              "  <svg xmlns=\"http://www.w3.org/2000/svg\" height=\"24px\"viewBox=\"0 0 24 24\"\n",
              "       width=\"24px\">\n",
              "    <path d=\"M0 0h24v24H0V0z\" fill=\"none\"/>\n",
              "    <path d=\"M18.56 5.44l.94 2.06.94-2.06 2.06-.94-2.06-.94-.94-2.06-.94 2.06-2.06.94zm-11 1L8.5 8.5l.94-2.06 2.06-.94-2.06-.94L8.5 2.5l-.94 2.06-2.06.94zm10 10l.94 2.06.94-2.06 2.06-.94-2.06-.94-.94-2.06-.94 2.06-2.06.94z\"/><path d=\"M17.41 7.96l-1.37-1.37c-.4-.4-.92-.59-1.43-.59-.52 0-1.04.2-1.43.59L10.3 9.45l-7.72 7.72c-.78.78-.78 2.05 0 2.83L4 21.41c.39.39.9.59 1.41.59.51 0 1.02-.2 1.41-.59l7.78-7.78 2.81-2.81c.8-.78.8-2.07 0-2.86zM5.41 20L4 18.59l7.72-7.72 1.47 1.35L5.41 20z\"/>\n",
              "  </svg>\n",
              "      </button>\n",
              "      \n",
              "  <style>\n",
              "    .colab-df-container {\n",
              "      display:flex;\n",
              "      flex-wrap:wrap;\n",
              "      gap: 12px;\n",
              "    }\n",
              "\n",
              "    .colab-df-convert {\n",
              "      background-color: #E8F0FE;\n",
              "      border: none;\n",
              "      border-radius: 50%;\n",
              "      cursor: pointer;\n",
              "      display: none;\n",
              "      fill: #1967D2;\n",
              "      height: 32px;\n",
              "      padding: 0 0 0 0;\n",
              "      width: 32px;\n",
              "    }\n",
              "\n",
              "    .colab-df-convert:hover {\n",
              "      background-color: #E2EBFA;\n",
              "      box-shadow: 0px 1px 2px rgba(60, 64, 67, 0.3), 0px 1px 3px 1px rgba(60, 64, 67, 0.15);\n",
              "      fill: #174EA6;\n",
              "    }\n",
              "\n",
              "    [theme=dark] .colab-df-convert {\n",
              "      background-color: #3B4455;\n",
              "      fill: #D2E3FC;\n",
              "    }\n",
              "\n",
              "    [theme=dark] .colab-df-convert:hover {\n",
              "      background-color: #434B5C;\n",
              "      box-shadow: 0px 1px 3px 1px rgba(0, 0, 0, 0.15);\n",
              "      filter: drop-shadow(0px 1px 2px rgba(0, 0, 0, 0.3));\n",
              "      fill: #FFFFFF;\n",
              "    }\n",
              "  </style>\n",
              "\n",
              "      <script>\n",
              "        const buttonEl =\n",
              "          document.querySelector('#df-740a9aba-0b4f-49a0-9fb4-b71e549344e8 button.colab-df-convert');\n",
              "        buttonEl.style.display =\n",
              "          google.colab.kernel.accessAllowed ? 'block' : 'none';\n",
              "\n",
              "        async function convertToInteractive(key) {\n",
              "          const element = document.querySelector('#df-740a9aba-0b4f-49a0-9fb4-b71e549344e8');\n",
              "          const dataTable =\n",
              "            await google.colab.kernel.invokeFunction('convertToInteractive',\n",
              "                                                     [key], {});\n",
              "          if (!dataTable) return;\n",
              "\n",
              "          const docLinkHtml = 'Like what you see? Visit the ' +\n",
              "            '<a target=\"_blank\" href=https://colab.research.google.com/notebooks/data_table.ipynb>data table notebook</a>'\n",
              "            + ' to learn more about interactive tables.';\n",
              "          element.innerHTML = '';\n",
              "          dataTable['output_type'] = 'display_data';\n",
              "          await google.colab.output.renderOutput(dataTable, element);\n",
              "          const docLink = document.createElement('div');\n",
              "          docLink.innerHTML = docLinkHtml;\n",
              "          element.appendChild(docLink);\n",
              "        }\n",
              "      </script>\n",
              "    </div>\n",
              "  </div>\n",
              "  "
            ]
          },
          "metadata": {},
          "execution_count": 4
        }
      ]
    },
    {
      "cell_type": "code",
      "source": [
        "df.shape"
      ],
      "metadata": {
        "colab": {
          "base_uri": "https://localhost:8080/"
        },
        "id": "MDulEWWZRR_r",
        "outputId": "04d83426-e574-46e9-937a-63123aa6eea8"
      },
      "execution_count": 5,
      "outputs": [
        {
          "output_type": "execute_result",
          "data": {
            "text/plain": [
              "(1060, 6)"
            ]
          },
          "metadata": {},
          "execution_count": 5
        }
      ]
    },
    {
      "cell_type": "code",
      "source": [
        "# check data types\n",
        "df.dtypes"
      ],
      "metadata": {
        "colab": {
          "base_uri": "https://localhost:8080/"
        },
        "id": "wkOdn_yfgI6r",
        "outputId": "904154ba-8018-4c14-f6b7-8076b88edaa9"
      },
      "execution_count": 6,
      "outputs": [
        {
          "output_type": "execute_result",
          "data": {
            "text/plain": [
              "Year                       object\n",
              "Age                        object\n",
              "Gender                     object\n",
              "Educational Attainment     object\n",
              "Personal Income            object\n",
              "Population Count          float64\n",
              "dtype: object"
            ]
          },
          "metadata": {},
          "execution_count": 6
        }
      ]
    },
    {
      "cell_type": "code",
      "source": [
        "# drop row with no population count\n",
        "df = df.dropna(subset=['Population Count'])\n",
        "df.head()"
      ],
      "metadata": {
        "colab": {
          "base_uri": "https://localhost:8080/",
          "height": 206
        },
        "id": "9jtSPuoliGUj",
        "outputId": "cb2a3678-7631-4b0d-8584-4da09cdf16ac"
      },
      "execution_count": 7,
      "outputs": [
        {
          "output_type": "execute_result",
          "data": {
            "text/plain": [
              "                     Year       Age Gender  Educational Attainment  \\\n",
              "1  01/01/2008 12:00:00 AM  00 to 17   Male  No high school diploma   \n",
              "2  01/01/2008 12:00:00 AM  00 to 17   Male  No high school diploma   \n",
              "3  01/01/2008 12:00:00 AM  00 to 17   Male  No high school diploma   \n",
              "4  01/01/2008 12:00:00 AM  00 to 17   Male  No high school diploma   \n",
              "5  01/01/2008 12:00:00 AM  00 to 17   Male  No high school diploma   \n",
              "\n",
              "      Personal Income  Population Count  \n",
              "1           No Income          650889.0  \n",
              "2    $5,000 to $9,999           30152.0  \n",
              "3  $10,000 to $14,999            7092.0  \n",
              "4  $15,000 to $24,999            3974.0  \n",
              "5  $25,000 to $34,999            2606.0  "
            ],
            "text/html": [
              "\n",
              "  <div id=\"df-5c76e693-0a11-4b6f-a1b8-8123d1d2f6f3\">\n",
              "    <div class=\"colab-df-container\">\n",
              "      <div>\n",
              "<style scoped>\n",
              "    .dataframe tbody tr th:only-of-type {\n",
              "        vertical-align: middle;\n",
              "    }\n",
              "\n",
              "    .dataframe tbody tr th {\n",
              "        vertical-align: top;\n",
              "    }\n",
              "\n",
              "    .dataframe thead th {\n",
              "        text-align: right;\n",
              "    }\n",
              "</style>\n",
              "<table border=\"1\" class=\"dataframe\">\n",
              "  <thead>\n",
              "    <tr style=\"text-align: right;\">\n",
              "      <th></th>\n",
              "      <th>Year</th>\n",
              "      <th>Age</th>\n",
              "      <th>Gender</th>\n",
              "      <th>Educational Attainment</th>\n",
              "      <th>Personal Income</th>\n",
              "      <th>Population Count</th>\n",
              "    </tr>\n",
              "  </thead>\n",
              "  <tbody>\n",
              "    <tr>\n",
              "      <th>1</th>\n",
              "      <td>01/01/2008 12:00:00 AM</td>\n",
              "      <td>00 to 17</td>\n",
              "      <td>Male</td>\n",
              "      <td>No high school diploma</td>\n",
              "      <td>No Income</td>\n",
              "      <td>650889.0</td>\n",
              "    </tr>\n",
              "    <tr>\n",
              "      <th>2</th>\n",
              "      <td>01/01/2008 12:00:00 AM</td>\n",
              "      <td>00 to 17</td>\n",
              "      <td>Male</td>\n",
              "      <td>No high school diploma</td>\n",
              "      <td>$5,000 to $9,999</td>\n",
              "      <td>30152.0</td>\n",
              "    </tr>\n",
              "    <tr>\n",
              "      <th>3</th>\n",
              "      <td>01/01/2008 12:00:00 AM</td>\n",
              "      <td>00 to 17</td>\n",
              "      <td>Male</td>\n",
              "      <td>No high school diploma</td>\n",
              "      <td>$10,000 to $14,999</td>\n",
              "      <td>7092.0</td>\n",
              "    </tr>\n",
              "    <tr>\n",
              "      <th>4</th>\n",
              "      <td>01/01/2008 12:00:00 AM</td>\n",
              "      <td>00 to 17</td>\n",
              "      <td>Male</td>\n",
              "      <td>No high school diploma</td>\n",
              "      <td>$15,000 to $24,999</td>\n",
              "      <td>3974.0</td>\n",
              "    </tr>\n",
              "    <tr>\n",
              "      <th>5</th>\n",
              "      <td>01/01/2008 12:00:00 AM</td>\n",
              "      <td>00 to 17</td>\n",
              "      <td>Male</td>\n",
              "      <td>No high school diploma</td>\n",
              "      <td>$25,000 to $34,999</td>\n",
              "      <td>2606.0</td>\n",
              "    </tr>\n",
              "  </tbody>\n",
              "</table>\n",
              "</div>\n",
              "      <button class=\"colab-df-convert\" onclick=\"convertToInteractive('df-5c76e693-0a11-4b6f-a1b8-8123d1d2f6f3')\"\n",
              "              title=\"Convert this dataframe to an interactive table.\"\n",
              "              style=\"display:none;\">\n",
              "        \n",
              "  <svg xmlns=\"http://www.w3.org/2000/svg\" height=\"24px\"viewBox=\"0 0 24 24\"\n",
              "       width=\"24px\">\n",
              "    <path d=\"M0 0h24v24H0V0z\" fill=\"none\"/>\n",
              "    <path d=\"M18.56 5.44l.94 2.06.94-2.06 2.06-.94-2.06-.94-.94-2.06-.94 2.06-2.06.94zm-11 1L8.5 8.5l.94-2.06 2.06-.94-2.06-.94L8.5 2.5l-.94 2.06-2.06.94zm10 10l.94 2.06.94-2.06 2.06-.94-2.06-.94-.94-2.06-.94 2.06-2.06.94z\"/><path d=\"M17.41 7.96l-1.37-1.37c-.4-.4-.92-.59-1.43-.59-.52 0-1.04.2-1.43.59L10.3 9.45l-7.72 7.72c-.78.78-.78 2.05 0 2.83L4 21.41c.39.39.9.59 1.41.59.51 0 1.02-.2 1.41-.59l7.78-7.78 2.81-2.81c.8-.78.8-2.07 0-2.86zM5.41 20L4 18.59l7.72-7.72 1.47 1.35L5.41 20z\"/>\n",
              "  </svg>\n",
              "      </button>\n",
              "      \n",
              "  <style>\n",
              "    .colab-df-container {\n",
              "      display:flex;\n",
              "      flex-wrap:wrap;\n",
              "      gap: 12px;\n",
              "    }\n",
              "\n",
              "    .colab-df-convert {\n",
              "      background-color: #E8F0FE;\n",
              "      border: none;\n",
              "      border-radius: 50%;\n",
              "      cursor: pointer;\n",
              "      display: none;\n",
              "      fill: #1967D2;\n",
              "      height: 32px;\n",
              "      padding: 0 0 0 0;\n",
              "      width: 32px;\n",
              "    }\n",
              "\n",
              "    .colab-df-convert:hover {\n",
              "      background-color: #E2EBFA;\n",
              "      box-shadow: 0px 1px 2px rgba(60, 64, 67, 0.3), 0px 1px 3px 1px rgba(60, 64, 67, 0.15);\n",
              "      fill: #174EA6;\n",
              "    }\n",
              "\n",
              "    [theme=dark] .colab-df-convert {\n",
              "      background-color: #3B4455;\n",
              "      fill: #D2E3FC;\n",
              "    }\n",
              "\n",
              "    [theme=dark] .colab-df-convert:hover {\n",
              "      background-color: #434B5C;\n",
              "      box-shadow: 0px 1px 3px 1px rgba(0, 0, 0, 0.15);\n",
              "      filter: drop-shadow(0px 1px 2px rgba(0, 0, 0, 0.3));\n",
              "      fill: #FFFFFF;\n",
              "    }\n",
              "  </style>\n",
              "\n",
              "      <script>\n",
              "        const buttonEl =\n",
              "          document.querySelector('#df-5c76e693-0a11-4b6f-a1b8-8123d1d2f6f3 button.colab-df-convert');\n",
              "        buttonEl.style.display =\n",
              "          google.colab.kernel.accessAllowed ? 'block' : 'none';\n",
              "\n",
              "        async function convertToInteractive(key) {\n",
              "          const element = document.querySelector('#df-5c76e693-0a11-4b6f-a1b8-8123d1d2f6f3');\n",
              "          const dataTable =\n",
              "            await google.colab.kernel.invokeFunction('convertToInteractive',\n",
              "                                                     [key], {});\n",
              "          if (!dataTable) return;\n",
              "\n",
              "          const docLinkHtml = 'Like what you see? Visit the ' +\n",
              "            '<a target=\"_blank\" href=https://colab.research.google.com/notebooks/data_table.ipynb>data table notebook</a>'\n",
              "            + ' to learn more about interactive tables.';\n",
              "          element.innerHTML = '';\n",
              "          dataTable['output_type'] = 'display_data';\n",
              "          await google.colab.output.renderOutput(dataTable, element);\n",
              "          const docLink = document.createElement('div');\n",
              "          docLink.innerHTML = docLinkHtml;\n",
              "          element.appendChild(docLink);\n",
              "        }\n",
              "      </script>\n",
              "    </div>\n",
              "  </div>\n",
              "  "
            ]
          },
          "metadata": {},
          "execution_count": 7
        }
      ]
    },
    {
      "cell_type": "code",
      "source": [
        "# drop every row where \"educational attainment == children under 15\"\n",
        "df = df[df['Educational Attainment'] != 'Children under 15']\n",
        "df.head(15)"
      ],
      "metadata": {
        "colab": {
          "base_uri": "https://localhost:8080/",
          "height": 520
        },
        "id": "dA4QOcGDehF5",
        "outputId": "38e339b2-957b-4b8d-a72c-1d68879ff152"
      },
      "execution_count": 8,
      "outputs": [
        {
          "output_type": "execute_result",
          "data": {
            "text/plain": [
              "                      Year       Age  Gender  \\\n",
              "1   01/01/2008 12:00:00 AM  00 to 17    Male   \n",
              "2   01/01/2008 12:00:00 AM  00 to 17    Male   \n",
              "3   01/01/2008 12:00:00 AM  00 to 17    Male   \n",
              "4   01/01/2008 12:00:00 AM  00 to 17    Male   \n",
              "5   01/01/2008 12:00:00 AM  00 to 17    Male   \n",
              "6   01/01/2008 12:00:00 AM  00 to 17    Male   \n",
              "8   01/01/2008 12:00:00 AM  00 to 17    Male   \n",
              "9   01/01/2008 12:00:00 AM  00 to 17    Male   \n",
              "10  01/01/2008 12:00:00 AM  00 to 17    Male   \n",
              "13  01/01/2008 12:00:00 AM  00 to 17  Female   \n",
              "14  01/01/2008 12:00:00 AM  00 to 17  Female   \n",
              "15  01/01/2008 12:00:00 AM  00 to 17  Female   \n",
              "16  01/01/2008 12:00:00 AM  00 to 17  Female   \n",
              "17  01/01/2008 12:00:00 AM  00 to 17  Female   \n",
              "18  01/01/2008 12:00:00 AM  00 to 17  Female   \n",
              "\n",
              "                 Educational Attainment     Personal Income  Population Count  \n",
              "1                No high school diploma           No Income          650889.0  \n",
              "2                No high school diploma    $5,000 to $9,999           30152.0  \n",
              "3                No high school diploma  $10,000 to $14,999            7092.0  \n",
              "4                No high school diploma  $15,000 to $24,999            3974.0  \n",
              "5                No high school diploma  $25,000 to $34,999            2606.0  \n",
              "6                No high school diploma  $35,000 to $49,999            2227.0  \n",
              "8   Some college, less than 4-yr degree           No Income            8664.0  \n",
              "9   Some college, less than 4-yr degree  $10,000 to $14,999            1304.0  \n",
              "10  Some college, less than 4-yr degree  $15,000 to $24,999            3465.0  \n",
              "13               No high school diploma           No Income          635274.0  \n",
              "14               No high school diploma    $5,000 to $9,999           33202.0  \n",
              "15               No high school diploma  $10,000 to $14,999            6857.0  \n",
              "16               No high school diploma  $15,000 to $24,999            2009.0  \n",
              "17            High school or equivalent           No Income            4711.0  \n",
              "18            High school or equivalent    $5,000 to $9,999            7672.0  "
            ],
            "text/html": [
              "\n",
              "  <div id=\"df-8dbe0adb-e1c7-4f9a-a392-7459861a8ddf\">\n",
              "    <div class=\"colab-df-container\">\n",
              "      <div>\n",
              "<style scoped>\n",
              "    .dataframe tbody tr th:only-of-type {\n",
              "        vertical-align: middle;\n",
              "    }\n",
              "\n",
              "    .dataframe tbody tr th {\n",
              "        vertical-align: top;\n",
              "    }\n",
              "\n",
              "    .dataframe thead th {\n",
              "        text-align: right;\n",
              "    }\n",
              "</style>\n",
              "<table border=\"1\" class=\"dataframe\">\n",
              "  <thead>\n",
              "    <tr style=\"text-align: right;\">\n",
              "      <th></th>\n",
              "      <th>Year</th>\n",
              "      <th>Age</th>\n",
              "      <th>Gender</th>\n",
              "      <th>Educational Attainment</th>\n",
              "      <th>Personal Income</th>\n",
              "      <th>Population Count</th>\n",
              "    </tr>\n",
              "  </thead>\n",
              "  <tbody>\n",
              "    <tr>\n",
              "      <th>1</th>\n",
              "      <td>01/01/2008 12:00:00 AM</td>\n",
              "      <td>00 to 17</td>\n",
              "      <td>Male</td>\n",
              "      <td>No high school diploma</td>\n",
              "      <td>No Income</td>\n",
              "      <td>650889.0</td>\n",
              "    </tr>\n",
              "    <tr>\n",
              "      <th>2</th>\n",
              "      <td>01/01/2008 12:00:00 AM</td>\n",
              "      <td>00 to 17</td>\n",
              "      <td>Male</td>\n",
              "      <td>No high school diploma</td>\n",
              "      <td>$5,000 to $9,999</td>\n",
              "      <td>30152.0</td>\n",
              "    </tr>\n",
              "    <tr>\n",
              "      <th>3</th>\n",
              "      <td>01/01/2008 12:00:00 AM</td>\n",
              "      <td>00 to 17</td>\n",
              "      <td>Male</td>\n",
              "      <td>No high school diploma</td>\n",
              "      <td>$10,000 to $14,999</td>\n",
              "      <td>7092.0</td>\n",
              "    </tr>\n",
              "    <tr>\n",
              "      <th>4</th>\n",
              "      <td>01/01/2008 12:00:00 AM</td>\n",
              "      <td>00 to 17</td>\n",
              "      <td>Male</td>\n",
              "      <td>No high school diploma</td>\n",
              "      <td>$15,000 to $24,999</td>\n",
              "      <td>3974.0</td>\n",
              "    </tr>\n",
              "    <tr>\n",
              "      <th>5</th>\n",
              "      <td>01/01/2008 12:00:00 AM</td>\n",
              "      <td>00 to 17</td>\n",
              "      <td>Male</td>\n",
              "      <td>No high school diploma</td>\n",
              "      <td>$25,000 to $34,999</td>\n",
              "      <td>2606.0</td>\n",
              "    </tr>\n",
              "    <tr>\n",
              "      <th>6</th>\n",
              "      <td>01/01/2008 12:00:00 AM</td>\n",
              "      <td>00 to 17</td>\n",
              "      <td>Male</td>\n",
              "      <td>No high school diploma</td>\n",
              "      <td>$35,000 to $49,999</td>\n",
              "      <td>2227.0</td>\n",
              "    </tr>\n",
              "    <tr>\n",
              "      <th>8</th>\n",
              "      <td>01/01/2008 12:00:00 AM</td>\n",
              "      <td>00 to 17</td>\n",
              "      <td>Male</td>\n",
              "      <td>Some college, less than 4-yr degree</td>\n",
              "      <td>No Income</td>\n",
              "      <td>8664.0</td>\n",
              "    </tr>\n",
              "    <tr>\n",
              "      <th>9</th>\n",
              "      <td>01/01/2008 12:00:00 AM</td>\n",
              "      <td>00 to 17</td>\n",
              "      <td>Male</td>\n",
              "      <td>Some college, less than 4-yr degree</td>\n",
              "      <td>$10,000 to $14,999</td>\n",
              "      <td>1304.0</td>\n",
              "    </tr>\n",
              "    <tr>\n",
              "      <th>10</th>\n",
              "      <td>01/01/2008 12:00:00 AM</td>\n",
              "      <td>00 to 17</td>\n",
              "      <td>Male</td>\n",
              "      <td>Some college, less than 4-yr degree</td>\n",
              "      <td>$15,000 to $24,999</td>\n",
              "      <td>3465.0</td>\n",
              "    </tr>\n",
              "    <tr>\n",
              "      <th>13</th>\n",
              "      <td>01/01/2008 12:00:00 AM</td>\n",
              "      <td>00 to 17</td>\n",
              "      <td>Female</td>\n",
              "      <td>No high school diploma</td>\n",
              "      <td>No Income</td>\n",
              "      <td>635274.0</td>\n",
              "    </tr>\n",
              "    <tr>\n",
              "      <th>14</th>\n",
              "      <td>01/01/2008 12:00:00 AM</td>\n",
              "      <td>00 to 17</td>\n",
              "      <td>Female</td>\n",
              "      <td>No high school diploma</td>\n",
              "      <td>$5,000 to $9,999</td>\n",
              "      <td>33202.0</td>\n",
              "    </tr>\n",
              "    <tr>\n",
              "      <th>15</th>\n",
              "      <td>01/01/2008 12:00:00 AM</td>\n",
              "      <td>00 to 17</td>\n",
              "      <td>Female</td>\n",
              "      <td>No high school diploma</td>\n",
              "      <td>$10,000 to $14,999</td>\n",
              "      <td>6857.0</td>\n",
              "    </tr>\n",
              "    <tr>\n",
              "      <th>16</th>\n",
              "      <td>01/01/2008 12:00:00 AM</td>\n",
              "      <td>00 to 17</td>\n",
              "      <td>Female</td>\n",
              "      <td>No high school diploma</td>\n",
              "      <td>$15,000 to $24,999</td>\n",
              "      <td>2009.0</td>\n",
              "    </tr>\n",
              "    <tr>\n",
              "      <th>17</th>\n",
              "      <td>01/01/2008 12:00:00 AM</td>\n",
              "      <td>00 to 17</td>\n",
              "      <td>Female</td>\n",
              "      <td>High school or equivalent</td>\n",
              "      <td>No Income</td>\n",
              "      <td>4711.0</td>\n",
              "    </tr>\n",
              "    <tr>\n",
              "      <th>18</th>\n",
              "      <td>01/01/2008 12:00:00 AM</td>\n",
              "      <td>00 to 17</td>\n",
              "      <td>Female</td>\n",
              "      <td>High school or equivalent</td>\n",
              "      <td>$5,000 to $9,999</td>\n",
              "      <td>7672.0</td>\n",
              "    </tr>\n",
              "  </tbody>\n",
              "</table>\n",
              "</div>\n",
              "      <button class=\"colab-df-convert\" onclick=\"convertToInteractive('df-8dbe0adb-e1c7-4f9a-a392-7459861a8ddf')\"\n",
              "              title=\"Convert this dataframe to an interactive table.\"\n",
              "              style=\"display:none;\">\n",
              "        \n",
              "  <svg xmlns=\"http://www.w3.org/2000/svg\" height=\"24px\"viewBox=\"0 0 24 24\"\n",
              "       width=\"24px\">\n",
              "    <path d=\"M0 0h24v24H0V0z\" fill=\"none\"/>\n",
              "    <path d=\"M18.56 5.44l.94 2.06.94-2.06 2.06-.94-2.06-.94-.94-2.06-.94 2.06-2.06.94zm-11 1L8.5 8.5l.94-2.06 2.06-.94-2.06-.94L8.5 2.5l-.94 2.06-2.06.94zm10 10l.94 2.06.94-2.06 2.06-.94-2.06-.94-.94-2.06-.94 2.06-2.06.94z\"/><path d=\"M17.41 7.96l-1.37-1.37c-.4-.4-.92-.59-1.43-.59-.52 0-1.04.2-1.43.59L10.3 9.45l-7.72 7.72c-.78.78-.78 2.05 0 2.83L4 21.41c.39.39.9.59 1.41.59.51 0 1.02-.2 1.41-.59l7.78-7.78 2.81-2.81c.8-.78.8-2.07 0-2.86zM5.41 20L4 18.59l7.72-7.72 1.47 1.35L5.41 20z\"/>\n",
              "  </svg>\n",
              "      </button>\n",
              "      \n",
              "  <style>\n",
              "    .colab-df-container {\n",
              "      display:flex;\n",
              "      flex-wrap:wrap;\n",
              "      gap: 12px;\n",
              "    }\n",
              "\n",
              "    .colab-df-convert {\n",
              "      background-color: #E8F0FE;\n",
              "      border: none;\n",
              "      border-radius: 50%;\n",
              "      cursor: pointer;\n",
              "      display: none;\n",
              "      fill: #1967D2;\n",
              "      height: 32px;\n",
              "      padding: 0 0 0 0;\n",
              "      width: 32px;\n",
              "    }\n",
              "\n",
              "    .colab-df-convert:hover {\n",
              "      background-color: #E2EBFA;\n",
              "      box-shadow: 0px 1px 2px rgba(60, 64, 67, 0.3), 0px 1px 3px 1px rgba(60, 64, 67, 0.15);\n",
              "      fill: #174EA6;\n",
              "    }\n",
              "\n",
              "    [theme=dark] .colab-df-convert {\n",
              "      background-color: #3B4455;\n",
              "      fill: #D2E3FC;\n",
              "    }\n",
              "\n",
              "    [theme=dark] .colab-df-convert:hover {\n",
              "      background-color: #434B5C;\n",
              "      box-shadow: 0px 1px 3px 1px rgba(0, 0, 0, 0.15);\n",
              "      filter: drop-shadow(0px 1px 2px rgba(0, 0, 0, 0.3));\n",
              "      fill: #FFFFFF;\n",
              "    }\n",
              "  </style>\n",
              "\n",
              "      <script>\n",
              "        const buttonEl =\n",
              "          document.querySelector('#df-8dbe0adb-e1c7-4f9a-a392-7459861a8ddf button.colab-df-convert');\n",
              "        buttonEl.style.display =\n",
              "          google.colab.kernel.accessAllowed ? 'block' : 'none';\n",
              "\n",
              "        async function convertToInteractive(key) {\n",
              "          const element = document.querySelector('#df-8dbe0adb-e1c7-4f9a-a392-7459861a8ddf');\n",
              "          const dataTable =\n",
              "            await google.colab.kernel.invokeFunction('convertToInteractive',\n",
              "                                                     [key], {});\n",
              "          if (!dataTable) return;\n",
              "\n",
              "          const docLinkHtml = 'Like what you see? Visit the ' +\n",
              "            '<a target=\"_blank\" href=https://colab.research.google.com/notebooks/data_table.ipynb>data table notebook</a>'\n",
              "            + ' to learn more about interactive tables.';\n",
              "          element.innerHTML = '';\n",
              "          dataTable['output_type'] = 'display_data';\n",
              "          await google.colab.output.renderOutput(dataTable, element);\n",
              "          const docLink = document.createElement('div');\n",
              "          docLink.innerHTML = docLinkHtml;\n",
              "          element.appendChild(docLink);\n",
              "        }\n",
              "      </script>\n",
              "    </div>\n",
              "  </div>\n",
              "  "
            ]
          },
          "metadata": {},
          "execution_count": 8
        }
      ]
    },
    {
      "cell_type": "code",
      "source": [
        "# drop every row where \"personal income == No Income\"\n",
        "df = df[df['Personal Income'] != 'No Income']\n",
        "df.head()"
      ],
      "metadata": {
        "colab": {
          "base_uri": "https://localhost:8080/",
          "height": 206
        },
        "id": "jK2HhvttdxoM",
        "outputId": "ec27b700-18ca-42b1-a8d1-5d8be233be74"
      },
      "execution_count": 9,
      "outputs": [
        {
          "output_type": "execute_result",
          "data": {
            "text/plain": [
              "                     Year       Age Gender  Educational Attainment  \\\n",
              "2  01/01/2008 12:00:00 AM  00 to 17   Male  No high school diploma   \n",
              "3  01/01/2008 12:00:00 AM  00 to 17   Male  No high school diploma   \n",
              "4  01/01/2008 12:00:00 AM  00 to 17   Male  No high school diploma   \n",
              "5  01/01/2008 12:00:00 AM  00 to 17   Male  No high school diploma   \n",
              "6  01/01/2008 12:00:00 AM  00 to 17   Male  No high school diploma   \n",
              "\n",
              "      Personal Income  Population Count  \n",
              "2    $5,000 to $9,999           30152.0  \n",
              "3  $10,000 to $14,999            7092.0  \n",
              "4  $15,000 to $24,999            3974.0  \n",
              "5  $25,000 to $34,999            2606.0  \n",
              "6  $35,000 to $49,999            2227.0  "
            ],
            "text/html": [
              "\n",
              "  <div id=\"df-4158aad2-1c1d-4486-abab-35f0066892f8\">\n",
              "    <div class=\"colab-df-container\">\n",
              "      <div>\n",
              "<style scoped>\n",
              "    .dataframe tbody tr th:only-of-type {\n",
              "        vertical-align: middle;\n",
              "    }\n",
              "\n",
              "    .dataframe tbody tr th {\n",
              "        vertical-align: top;\n",
              "    }\n",
              "\n",
              "    .dataframe thead th {\n",
              "        text-align: right;\n",
              "    }\n",
              "</style>\n",
              "<table border=\"1\" class=\"dataframe\">\n",
              "  <thead>\n",
              "    <tr style=\"text-align: right;\">\n",
              "      <th></th>\n",
              "      <th>Year</th>\n",
              "      <th>Age</th>\n",
              "      <th>Gender</th>\n",
              "      <th>Educational Attainment</th>\n",
              "      <th>Personal Income</th>\n",
              "      <th>Population Count</th>\n",
              "    </tr>\n",
              "  </thead>\n",
              "  <tbody>\n",
              "    <tr>\n",
              "      <th>2</th>\n",
              "      <td>01/01/2008 12:00:00 AM</td>\n",
              "      <td>00 to 17</td>\n",
              "      <td>Male</td>\n",
              "      <td>No high school diploma</td>\n",
              "      <td>$5,000 to $9,999</td>\n",
              "      <td>30152.0</td>\n",
              "    </tr>\n",
              "    <tr>\n",
              "      <th>3</th>\n",
              "      <td>01/01/2008 12:00:00 AM</td>\n",
              "      <td>00 to 17</td>\n",
              "      <td>Male</td>\n",
              "      <td>No high school diploma</td>\n",
              "      <td>$10,000 to $14,999</td>\n",
              "      <td>7092.0</td>\n",
              "    </tr>\n",
              "    <tr>\n",
              "      <th>4</th>\n",
              "      <td>01/01/2008 12:00:00 AM</td>\n",
              "      <td>00 to 17</td>\n",
              "      <td>Male</td>\n",
              "      <td>No high school diploma</td>\n",
              "      <td>$15,000 to $24,999</td>\n",
              "      <td>3974.0</td>\n",
              "    </tr>\n",
              "    <tr>\n",
              "      <th>5</th>\n",
              "      <td>01/01/2008 12:00:00 AM</td>\n",
              "      <td>00 to 17</td>\n",
              "      <td>Male</td>\n",
              "      <td>No high school diploma</td>\n",
              "      <td>$25,000 to $34,999</td>\n",
              "      <td>2606.0</td>\n",
              "    </tr>\n",
              "    <tr>\n",
              "      <th>6</th>\n",
              "      <td>01/01/2008 12:00:00 AM</td>\n",
              "      <td>00 to 17</td>\n",
              "      <td>Male</td>\n",
              "      <td>No high school diploma</td>\n",
              "      <td>$35,000 to $49,999</td>\n",
              "      <td>2227.0</td>\n",
              "    </tr>\n",
              "  </tbody>\n",
              "</table>\n",
              "</div>\n",
              "      <button class=\"colab-df-convert\" onclick=\"convertToInteractive('df-4158aad2-1c1d-4486-abab-35f0066892f8')\"\n",
              "              title=\"Convert this dataframe to an interactive table.\"\n",
              "              style=\"display:none;\">\n",
              "        \n",
              "  <svg xmlns=\"http://www.w3.org/2000/svg\" height=\"24px\"viewBox=\"0 0 24 24\"\n",
              "       width=\"24px\">\n",
              "    <path d=\"M0 0h24v24H0V0z\" fill=\"none\"/>\n",
              "    <path d=\"M18.56 5.44l.94 2.06.94-2.06 2.06-.94-2.06-.94-.94-2.06-.94 2.06-2.06.94zm-11 1L8.5 8.5l.94-2.06 2.06-.94-2.06-.94L8.5 2.5l-.94 2.06-2.06.94zm10 10l.94 2.06.94-2.06 2.06-.94-2.06-.94-.94-2.06-.94 2.06-2.06.94z\"/><path d=\"M17.41 7.96l-1.37-1.37c-.4-.4-.92-.59-1.43-.59-.52 0-1.04.2-1.43.59L10.3 9.45l-7.72 7.72c-.78.78-.78 2.05 0 2.83L4 21.41c.39.39.9.59 1.41.59.51 0 1.02-.2 1.41-.59l7.78-7.78 2.81-2.81c.8-.78.8-2.07 0-2.86zM5.41 20L4 18.59l7.72-7.72 1.47 1.35L5.41 20z\"/>\n",
              "  </svg>\n",
              "      </button>\n",
              "      \n",
              "  <style>\n",
              "    .colab-df-container {\n",
              "      display:flex;\n",
              "      flex-wrap:wrap;\n",
              "      gap: 12px;\n",
              "    }\n",
              "\n",
              "    .colab-df-convert {\n",
              "      background-color: #E8F0FE;\n",
              "      border: none;\n",
              "      border-radius: 50%;\n",
              "      cursor: pointer;\n",
              "      display: none;\n",
              "      fill: #1967D2;\n",
              "      height: 32px;\n",
              "      padding: 0 0 0 0;\n",
              "      width: 32px;\n",
              "    }\n",
              "\n",
              "    .colab-df-convert:hover {\n",
              "      background-color: #E2EBFA;\n",
              "      box-shadow: 0px 1px 2px rgba(60, 64, 67, 0.3), 0px 1px 3px 1px rgba(60, 64, 67, 0.15);\n",
              "      fill: #174EA6;\n",
              "    }\n",
              "\n",
              "    [theme=dark] .colab-df-convert {\n",
              "      background-color: #3B4455;\n",
              "      fill: #D2E3FC;\n",
              "    }\n",
              "\n",
              "    [theme=dark] .colab-df-convert:hover {\n",
              "      background-color: #434B5C;\n",
              "      box-shadow: 0px 1px 3px 1px rgba(0, 0, 0, 0.15);\n",
              "      filter: drop-shadow(0px 1px 2px rgba(0, 0, 0, 0.3));\n",
              "      fill: #FFFFFF;\n",
              "    }\n",
              "  </style>\n",
              "\n",
              "      <script>\n",
              "        const buttonEl =\n",
              "          document.querySelector('#df-4158aad2-1c1d-4486-abab-35f0066892f8 button.colab-df-convert');\n",
              "        buttonEl.style.display =\n",
              "          google.colab.kernel.accessAllowed ? 'block' : 'none';\n",
              "\n",
              "        async function convertToInteractive(key) {\n",
              "          const element = document.querySelector('#df-4158aad2-1c1d-4486-abab-35f0066892f8');\n",
              "          const dataTable =\n",
              "            await google.colab.kernel.invokeFunction('convertToInteractive',\n",
              "                                                     [key], {});\n",
              "          if (!dataTable) return;\n",
              "\n",
              "          const docLinkHtml = 'Like what you see? Visit the ' +\n",
              "            '<a target=\"_blank\" href=https://colab.research.google.com/notebooks/data_table.ipynb>data table notebook</a>'\n",
              "            + ' to learn more about interactive tables.';\n",
              "          element.innerHTML = '';\n",
              "          dataTable['output_type'] = 'display_data';\n",
              "          await google.colab.output.renderOutput(dataTable, element);\n",
              "          const docLink = document.createElement('div');\n",
              "          docLink.innerHTML = docLinkHtml;\n",
              "          element.appendChild(docLink);\n",
              "        }\n",
              "      </script>\n",
              "    </div>\n",
              "  </div>\n",
              "  "
            ]
          },
          "metadata": {},
          "execution_count": 9
        }
      ]
    },
    {
      "cell_type": "code",
      "source": [
        " # make the age buckets 00 to 17, 18 to 64 65 to 80 categories\n",
        " df['Age'] = df['Age'].astype('category')"
      ],
      "metadata": {
        "id": "sJcV759scfvA"
      },
      "execution_count": 10,
      "outputs": []
    },
    {
      "cell_type": "code",
      "source": [
        "# salary buckets $10,000 to $14,999 $15,000 to $24,999 $25,000 to $34,999 $35,000 to $44,999 $45,000 to $74,999 $75,000 and above\n",
        "# make personal income categorical as well \n",
        "df['Personal Income'] = df['Personal Income'].astype('category')"
      ],
      "metadata": {
        "id": "axu7rDogc3kI"
      },
      "execution_count": 11,
      "outputs": []
    },
    {
      "cell_type": "code",
      "source": [
        "# bar plot\n",
        "plt.bar(df['Gender'], df['Population Count'])"
      ],
      "metadata": {
        "colab": {
          "base_uri": "https://localhost:8080/",
          "height": 294
        },
        "id": "_wJBEAP0lDig",
        "outputId": "b7111a29-38da-4726-93a0-95031d85463a"
      },
      "execution_count": 12,
      "outputs": [
        {
          "output_type": "execute_result",
          "data": {
            "text/plain": [
              "<BarContainer object of 883 artists>"
            ]
          },
          "metadata": {},
          "execution_count": 12
        },
        {
          "output_type": "display_data",
          "data": {
            "text/plain": [
              "<Figure size 432x288 with 1 Axes>"
            ],
            "image/png": "[encoded data removed]"
          },
          "metadata": {
            "needs_background": "light"
          }
        }
      ]
    },
    {
      "cell_type": "code",
      "source": [
        "# horizontal bar plot\n",
        "plt.barh(df['Gender'], df['Population Count'])"
      ],
      "metadata": {
        "colab": {
          "base_uri": "https://localhost:8080/",
          "height": 296
        },
        "id": "k-C3XW-wl18U",
        "outputId": "f40e57cb-db4d-4a48-a940-1ec3cc544775"
      },
      "execution_count": 13,
      "outputs": [
        {
          "output_type": "execute_result",
          "data": {
            "text/plain": [
              "<BarContainer object of 883 artists>"
            ]
          },
          "metadata": {},
          "execution_count": 13
        },
        {
          "output_type": "display_data",
          "data": {
            "text/plain": [
              "<Figure size 432x288 with 1 Axes>"
            ],
            "image/png": "[encoded data removed]"
          },
          "metadata": {
            "needs_background": "light"
          }
        }
      ]
    },
    {
      "cell_type": "code",
      "source": [
        "df.shape"
      ],
      "metadata": {
        "colab": {
          "base_uri": "https://localhost:8080/"
        },
        "id": "pu_pFFBenb0a",
        "outputId": "698d3ef5-f609-4a50-b5a5-fbe64cf3cf66"
      },
      "execution_count": 14,
      "outputs": [
        {
          "output_type": "execute_result",
          "data": {
            "text/plain": [
              "(883, 6)"
            ]
          },
          "metadata": {},
          "execution_count": 14
        }
      ]
    },
    {
      "cell_type": "code",
      "source": [
        "# plot education, gender, and population\n",
        "freq_df = df.groupby(['Gender','Age']).count()['Educational Attainment']\n",
        "freq_df.head()\n",
        "freq_df.plot.bar()"
      ],
      "metadata": {
        "colab": {
          "base_uri": "https://localhost:8080/",
          "height": 387
        },
        "id": "diRfX4p-nEwz",
        "outputId": "4d3257c7-6f9c-4f87-dfad-ba0754edda7c"
      },
      "execution_count": 15,
      "outputs": [
        {
          "output_type": "execute_result",
          "data": {
            "text/plain": [
              "<matplotlib.axes._subplots.AxesSubplot at 0x7f3f60260280>"
            ]
          },
          "metadata": {},
          "execution_count": 15
        },
        {
          "output_type": "display_data",
          "data": {
            "text/plain": [
              "<Figure size 432x288 with 1 Axes>"
            ],
            "image/png": "[encoded data removed]"
          },
          "metadata": {
            "needs_background": "light"
          }
        }
      ]
    },
    {
      "cell_type": "code",
      "source": [
        "# plot Gender and Age count by age buckets\n",
        "df.groupby('Gender').Age.value_counts().unstack(0).plot.barh()"
      ],
      "metadata": {
        "colab": {
          "base_uri": "https://localhost:8080/",
          "height": 283
        },
        "id": "hniyXN8yqiM5",
        "outputId": "80f40665-b77a-4ccd-b76b-ead94023c729"
      },
      "execution_count": 16,
      "outputs": [
        {
          "output_type": "execute_result",
          "data": {
            "text/plain": [
              "<matplotlib.axes._subplots.AxesSubplot at 0x7f3f601bfa90>"
            ]
          },
          "metadata": {},
          "execution_count": 16
        },
        {
          "output_type": "display_data",
          "data": {
            "text/plain": [
              "<Figure size 432x288 with 1 Axes>"
            ],
            "image/png": "[encoded data removed]"
          },
          "metadata": {
            "needs_background": "light"
          }
        }
      ]
    },
    {
      "cell_type": "code",
      "source": [
        "# Scatter plot 1\n",
        "plt.scatter(df['Educational Attainment'], df['Population Count'])\n",
        "plt.xticks(rotation=90)"
      ],
      "metadata": {
        "colab": {
          "base_uri": "https://localhost:8080/",
          "height": 464
        },
        "id": "ytEpiyYQlsxr",
        "outputId": "69385ea5-56fc-454d-9e60-39eab69423e3"
      },
      "execution_count": 18,
      "outputs": [
        {
          "output_type": "execute_result",
          "data": {
            "text/plain": [
              "([0, 1, 2, 3], <a list of 4 Text major ticklabel objects>)"
            ]
          },
          "metadata": {},
          "execution_count": 18
        },
        {
          "output_type": "display_data",
          "data": {
            "text/plain": [
              "<Figure size 432x288 with 1 Axes>"
            ],
            "image/png": "[encoded data removed]"
          },
          "metadata": {
            "needs_background": "light"
          }
        }
      ]
    },
    {
      "cell_type": "code",
      "source": [
        "# Scatter plot 2\n",
        "plt.scatter(df['Educational Attainment'], df['Personal Income'])\n",
        "plt.xticks(rotation=90)"
      ],
      "metadata": {
        "colab": {
          "base_uri": "https://localhost:8080/",
          "height": 453
        },
        "id": "TJMuKgyarnNv",
        "outputId": "f3307c54-c349-493e-8ca1-9f6fc1bd6c45"
      },
      "execution_count": 19,
      "outputs": [
        {
          "output_type": "execute_result",
          "data": {
            "text/plain": [
              "([0, 1, 2, 3], <a list of 4 Text major ticklabel objects>)"
            ]
          },
          "metadata": {},
          "execution_count": 19
        },
        {
          "output_type": "display_data",
          "data": {
            "text/plain": [
              "<Figure size 432x288 with 1 Axes>"
            ],
            "image/png": "[encoded data removed]"
          },
          "metadata": {
            "needs_background": "light"
          }
        }
      ]
    },
    {
      "cell_type": "code",
      "source": [
        "plt.boxplot(df['Population Count'])"
      ],
      "metadata": {
        "colab": {
          "base_uri": "https://localhost:8080/",
          "height": 419
        },
        "id": "-rCZ7z3hrkiu",
        "outputId": "14e0f6a3-0905-4043-d228-2ea3705c6b98"
      },
      "execution_count": null,
      "outputs": [
        {
          "output_type": "execute_result",
          "data": {
            "text/plain": [
              "{'whiskers': [<matplotlib.lines.Line2D at 0x7f79352df3a0>,\n",
              "  <matplotlib.lines.Line2D at 0x7f79352df6d0>],\n",
              " 'caps': [<matplotlib.lines.Line2D at 0x7f79352dfa60>,\n",
              "  <matplotlib.lines.Line2D at 0x7f79352dfd60>],\n",
              " 'boxes': [<matplotlib.lines.Line2D at 0x7f79352d1970>],\n",
              " 'medians': [<matplotlib.lines.Line2D at 0x7f79352e5100>],\n",
              " 'fliers': [<matplotlib.lines.Line2D at 0x7f79352e5400>],\n",
              " 'means': []}"
            ]
          },
          "metadata": {},
          "execution_count": 39
        },
        {
          "output_type": "display_data",
          "data": {
            "text/plain": [
              "<Figure size 432x288 with 1 Axes>"
            ],
            "image/png": "[encoded data removed]"
          },
          "metadata": {
            "needs_background": "light"
          }
        }
      ]
    },
    {
      "cell_type": "code",
      "source": [
        "df['Year'] = pd.to_datetime(df['Year']).dt.year"
      ],
      "metadata": {
        "id": "LLq860vZp5Ic"
      },
      "execution_count": 31,
      "outputs": []
    },
    {
      "cell_type": "code",
      "source": [
        "df_gp = df.groupby(by=['Educational Attainment', 'Year'])['Population Count'].sum()\n",
        "df_gp"
      ],
      "metadata": {
        "colab": {
          "base_uri": "https://localhost:8080/"
        },
        "id": "_Rn-htUnsCt7",
        "outputId": "44c902a7-ad41-49fc-952e-5b3284d8b926"
      },
      "execution_count": 36,
      "outputs": [
        {
          "output_type": "execute_result",
          "data": {
            "text/plain": [
              "Educational Attainment               Year\n",
              "Bachelor's degree or higher          2008    7015687.0\n",
              "                                     2009    7087158.0\n",
              "                                     2010    7224700.0\n",
              "                                     2011    7136496.0\n",
              "                                     2012    7258144.0\n",
              "                                     2013    7783806.0\n",
              "                                     2014    7952678.0\n",
              "High school or equivalent            2008    5085053.0\n",
              "                                     2009    4967699.0\n",
              "                                     2010    5041441.0\n",
              "                                     2011    5215868.0\n",
              "                                     2012    5302803.0\n",
              "                                     2013    5061087.0\n",
              "                                     2014    5145560.0\n",
              "No high school diploma               2008    3574477.0\n",
              "                                     2009    3597696.0\n",
              "                                     2010    3346820.0\n",
              "                                     2011    3418265.0\n",
              "                                     2012    3456385.0\n",
              "                                     2013    3187132.0\n",
              "                                     2014    3128733.0\n",
              "Some college, less than 4-yr degree  2008    6516459.0\n",
              "                                     2009    6619555.0\n",
              "                                     2010    6397549.0\n",
              "                                     2011    6416542.0\n",
              "                                     2012    6531952.0\n",
              "                                     2013    6939764.0\n",
              "                                     2014    6796282.0\n",
              "Name: Population Count, dtype: float64"
            ]
          },
          "metadata": {},
          "execution_count": 36
        }
      ]
    },
    {
      "cell_type": "markdown",
      "source": [
        "Make 4 line plots for each educational attainment where the x-axis is \"Year\" and the y-axis is \"Population\""
      ],
      "metadata": {
        "id": "IdGhSdekL36z"
      }
    },
    {
      "cell_type": "code",
      "source": [
        "df_gp.unstack(0).plot()\n",
        "plt.legend(bbox_to_anchor=(1,1), loc='upper left', prop = {'size': 15}, title = 'Educational Attainment', title_fontsize = 15)"
      ],
      "metadata": {
        "colab": {
          "base_uri": "https://localhost:8080/",
          "height": 308
        },
        "id": "vLaXzyFSsV-V",
        "outputId": "3b7a370c-5e30-47da-a8df-34a80601cf46"
      },
      "execution_count": 45,
      "outputs": [
        {
          "output_type": "execute_result",
          "data": {
            "text/plain": [
              "<matplotlib.legend.Legend at 0x7f3f5c5e1490>"
            ]
          },
          "metadata": {},
          "execution_count": 45
        },
        {
          "output_type": "display_data",
          "data": {
            "text/plain": [
              "<Figure size 432x288 with 1 Axes>"
            ],
            "image/png": "[encoded data removed]"
          },
          "metadata": {
            "needs_background": "light"
          }
        }
      ]
    },
    {
      "cell_type": "code",
      "source": [
        "df.groupby(by=['Educational Attainment'])['Population Count'].sum()"
      ],
      "metadata": {
        "id": "gxQUJtZfL2Gu",
        "colab": {
          "base_uri": "https://localhost:8080/"
        },
        "outputId": "8d93280b-61d0-430a-bc0b-daee5411c8b6"
      },
      "execution_count": 23,
      "outputs": [
        {
          "output_type": "execute_result",
          "data": {
            "text/plain": [
              "Educational Attainment\n",
              "Bachelor's degree or higher            51458669.0\n",
              "High school or equivalent              35819511.0\n",
              "No high school diploma                 23709508.0\n",
              "Some college, less than 4-yr degree    46218103.0\n",
              "Name: Population Count, dtype: float64"
            ]
          },
          "metadata": {},
          "execution_count": 23
        }
      ]
    },
    {
      "cell_type": "code",
      "source": [
        "EIP = df.groupby(by=['Educational Attainment', 'Personal Income'])['Population Count'].sum()\n",
        "EIP"
      ],
      "metadata": {
        "colab": {
          "base_uri": "https://localhost:8080/"
        },
        "id": "4c9LVgpDnsDa",
        "outputId": "8f66df54-8e70-430f-cf50-31e6fb0e9cee"
      },
      "execution_count": 27,
      "outputs": [
        {
          "output_type": "execute_result",
          "data": {
            "text/plain": [
              "Educational Attainment               Personal Income   \n",
              "Bachelor's degree or higher          $10,000 to $14,999     2683138.0\n",
              "                                     $15,000 to $24,999     5156919.0\n",
              "                                     $25,000 to $34,999     4945861.0\n",
              "                                     $35,000 to $49,999     7328963.0\n",
              "                                     $5,000 to $9,999       2252588.0\n",
              "                                     $50,000 to $74,999    10795902.0\n",
              "                                     $75,000 and over      18295298.0\n",
              "High school or equivalent            $10,000 to $14,999     5099457.0\n",
              "                                     $15,000 to $24,999     8578826.0\n",
              "                                     $25,000 to $34,999     6108940.0\n",
              "                                     $35,000 to $49,999     5609304.0\n",
              "                                     $5,000 to $9,999       4437069.0\n",
              "                                     $50,000 to $74,999     3950500.0\n",
              "                                     $75,000 and over       2035415.0\n",
              "No high school diploma               $10,000 to $14,999     5516889.0\n",
              "                                     $15,000 to $24,999     6777351.0\n",
              "                                     $25,000 to $34,999     3055748.0\n",
              "                                     $35,000 to $49,999     1939568.0\n",
              "                                     $5,000 to $9,999       5106194.0\n",
              "                                     $50,000 to $74,999      930115.0\n",
              "                                     $75,000 and over        383643.0\n",
              "Some college, less than 4-yr degree  $10,000 to $14,999     5561141.0\n",
              "                                     $15,000 to $24,999     8930143.0\n",
              "                                     $25,000 to $34,999     7120357.0\n",
              "                                     $35,000 to $49,999     7512053.0\n",
              "                                     $5,000 to $9,999       5126391.0\n",
              "                                     $50,000 to $74,999     6649798.0\n",
              "                                     $75,000 and over       5318220.0\n",
              "Name: Population Count, dtype: float64"
            ]
          },
          "metadata": {},
          "execution_count": 27
        }
      ]
    },
    {
      "cell_type": "code",
      "source": [
        "EIP.unstack(0).plot.bar()"
      ],
      "metadata": {
        "colab": {
          "base_uri": "https://localhost:8080/",
          "height": 387
        },
        "id": "Nyjk67jcoIdc",
        "outputId": "419915d5-58c6-483a-ce19-fd7f52b8bddb"
      },
      "execution_count": 29,
      "outputs": [
        {
          "output_type": "execute_result",
          "data": {
            "text/plain": [
              "<matplotlib.axes._subplots.AxesSubplot at 0x7f3f5ce7a220>"
            ]
          },
          "metadata": {},
          "execution_count": 29
        },
        {
          "output_type": "display_data",
          "data": {
            "text/plain": [
              "<Figure size 432x288 with 1 Axes>"
            ],
            "image/png": "[encoded data removed]"
          },
          "metadata": {
            "needs_background": "light"
          }
        }
      ]
    },
    {
      "cell_type": "code",
      "source": [],
      "metadata": {
        "id": "5jCtbv-TMU5U"
      },
      "execution_count": null,
      "outputs": []
    }
  ]
}